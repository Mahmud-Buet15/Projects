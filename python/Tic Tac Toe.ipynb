{
 "cells": [
  {
   "cell_type": "markdown",
   "metadata": {},
   "source": [
    "THE TIC TAC TOE GAME"
   ]
  },
  {
   "cell_type": "code",
   "execution_count": 1,
   "metadata": {},
   "outputs": [],
   "source": [
    "from IPython.display import clear_output\n",
    "\n",
    "def display_board(board):\n",
    "    \"\"\"A function that can print out a board.\n",
    "    Set up your board as a list, where each index 1-9 corresponds with a number on a number pad,\n",
    "    so you get a 3 by 3 board representation.\"\"\"\n",
    "    clear_output()\n",
    "    print(board[7]+\" | \"+board[8]+\" | \"+board[9])\n",
    "    print(\"--|---|--\")\n",
    "    print(board[4]+\" | \"+board[5]+\" | \"+board[6])\n",
    "    print(\"--|---|--\")\n",
    "    print(board[1]+\" | \"+board[2]+\" | \"+board[3])"
   ]
  },
  {
   "cell_type": "code",
   "execution_count": 2,
   "metadata": {},
   "outputs": [
    {
     "name": "stdout",
     "output_type": "stream",
     "text": [
      "  |   |  \n",
      "--|---|--\n",
      "  |   |  \n",
      "--|---|--\n",
      "  |   |  \n"
     ]
    }
   ],
   "source": [
    "test_board = [\" \"]*10\n",
    "display_board(test_board)"
   ]
  },
  {
   "cell_type": "code",
   "execution_count": 3,
   "metadata": {},
   "outputs": [],
   "source": [
    "def player_input():\n",
    "    \"\"\"A function that can take in a player input and assign their marker as 'X' or 'O'.\"\"\"\n",
    "    \n",
    "    player1=\"\"\n",
    "    while player1.upper()!=\"X\" and player1.upper()!=\"O\":\n",
    "        player1=input(\"Player1: Do you want to be X or O?\")\n",
    "    if player1.upper()==\"X\":\n",
    "        player2=\"O\"\n",
    "    else:\n",
    "        player2=\"X\"\n",
    "    return (player1.upper(),player2.upper())"
   ]
  },
  {
   "cell_type": "code",
   "execution_count": 4,
   "metadata": {},
   "outputs": [
    {
     "name": "stdout",
     "output_type": "stream",
     "text": [
      "Player1: Do you want to be X or O?\n",
      "Player1: Do you want to be X or O?\n",
      "Player1: Do you want to be X or O?\n",
      "Player1: Do you want to be X or O?\n",
      "Player1: Do you want to be X or O?\n",
      "Player1: Do you want to be X or O?a\n",
      "Player1: Do you want to be X or O?x\n"
     ]
    }
   ],
   "source": [
    "player1_marker,player2_marker=player_input()"
   ]
  },
  {
   "cell_type": "code",
   "execution_count": 5,
   "metadata": {},
   "outputs": [
    {
     "data": {
      "text/plain": [
       "'X'"
      ]
     },
     "execution_count": 5,
     "metadata": {},
     "output_type": "execute_result"
    }
   ],
   "source": [
    "player1_marker"
   ]
  },
  {
   "cell_type": "code",
   "execution_count": 6,
   "metadata": {},
   "outputs": [],
   "source": [
    "def place_marker(board, marker, position):\n",
    "    \"\"\" a function that takes in the board list object, a marker ('X' or 'O'), and a desired position (number 1-9) and assigns it to the board.\"\"\"\n",
    "    \n",
    "    board[position]=marker\n",
    "    "
   ]
  },
  {
   "cell_type": "code",
   "execution_count": 7,
   "metadata": {},
   "outputs": [
    {
     "name": "stdout",
     "output_type": "stream",
     "text": [
      "  | $ |  \n",
      "--|---|--\n",
      "  |   |  \n",
      "--|---|--\n",
      "  |   |  \n"
     ]
    }
   ],
   "source": [
    "place_marker(test_board,'$',8)\n",
    "display_board(test_board)"
   ]
  },
  {
   "cell_type": "code",
   "execution_count": 8,
   "metadata": {},
   "outputs": [],
   "source": [
    "def win_check(board, mark):\n",
    "    \"\"\"A function that takes in a board and a mark (X or O) and then checks to see if that mark has won. \"\"\"\n",
    "    return ((board[7] == mark and board[8] == mark and board[9] == mark) or # across the top\n",
    "    (board[4] == mark and board[5] == mark and board[6] == mark) or # across the middle\n",
    "    (board[1] == mark and board[2] == mark and board[3] == mark) or # across the bottom\n",
    "    (board[7] == mark and board[4] == mark and board[1] == mark) or # down the middle\n",
    "    (board[8] == mark and board[5] == mark and board[2] == mark) or # down the middle\n",
    "    (board[9] == mark and board[6] == mark and board[3] == mark) or # down the right side\n",
    "    (board[7] == mark and board[5] == mark and board[3] == mark) or # diagonal\n",
    "    (board[9] == mark and board[5] == mark and board[1] == mark)) # diagonal"
   ]
  },
  {
   "cell_type": "code",
   "execution_count": 9,
   "metadata": {},
   "outputs": [
    {
     "name": "stdout",
     "output_type": "stream",
     "text": [
      "  | $ |  \n",
      "--|---|--\n",
      "  |   |  \n",
      "--|---|--\n",
      "  |   |  \n"
     ]
    }
   ],
   "source": [
    "display_board(test_board)"
   ]
  },
  {
   "cell_type": "code",
   "execution_count": 10,
   "metadata": {},
   "outputs": [
    {
     "data": {
      "text/plain": [
       "False"
      ]
     },
     "execution_count": 10,
     "metadata": {},
     "output_type": "execute_result"
    }
   ],
   "source": [
    "win_check(test_board,'O')"
   ]
  },
  {
   "cell_type": "code",
   "execution_count": 11,
   "metadata": {},
   "outputs": [],
   "source": [
    "\n",
    "def choose_first():\n",
    "    \"\"\"a function that uses the random module to randomly decide which player goes first.\"\"\"\n",
    "    import random\n",
    "    flip=random.randint(0,1)\n",
    "    \n",
    "    if flip==0:\n",
    "        return \"Player 1\"\n",
    "    else:\n",
    "        return \"Player 2\""
   ]
  },
  {
   "cell_type": "code",
   "execution_count": 12,
   "metadata": {},
   "outputs": [
    {
     "data": {
      "text/plain": [
       "'Player 2'"
      ]
     },
     "execution_count": 12,
     "metadata": {},
     "output_type": "execute_result"
    }
   ],
   "source": [
    "choose_first()"
   ]
  },
  {
   "cell_type": "code",
   "execution_count": 13,
   "metadata": {},
   "outputs": [],
   "source": [
    "def space_check(board, position):\n",
    "    \"\"\"a function that returns a boolean indicating whether a space on the board is freely available.\"\"\"\n",
    "    return board[position]==\" \"\n",
    "    "
   ]
  },
  {
   "cell_type": "code",
   "execution_count": 14,
   "metadata": {},
   "outputs": [
    {
     "data": {
      "text/plain": [
       "True"
      ]
     },
     "execution_count": 14,
     "metadata": {},
     "output_type": "execute_result"
    }
   ],
   "source": [
    "space_check(test_board,6)"
   ]
  },
  {
   "cell_type": "code",
   "execution_count": 15,
   "metadata": {},
   "outputs": [],
   "source": [
    "def full_board_check(board):\n",
    "    \"\"\"a function that checks if the board is full and returns a boolean value. True if full, False otherwise.\"\"\"\n",
    "    flag=True\n",
    "    for i in range(1,10):\n",
    "        if board[i]==\" \":\n",
    "            flag=False\n",
    "    return flag"
   ]
  },
  {
   "cell_type": "code",
   "execution_count": 16,
   "metadata": {},
   "outputs": [
    {
     "data": {
      "text/plain": [
       "False"
      ]
     },
     "execution_count": 16,
     "metadata": {},
     "output_type": "execute_result"
    }
   ],
   "source": [
    "full_board_check(test_board)"
   ]
  },
  {
   "cell_type": "code",
   "execution_count": 17,
   "metadata": {},
   "outputs": [],
   "source": [
    "def player_choice(board):\n",
    "    \"\"\"a function that asks for a player's next position (as a number 1-9) \n",
    "    and then uses the function from step 6 to check if it's a free position. \n",
    "    If it is, then return the position for later use.\"\"\"\n",
    "    \n",
    "    position = 0\n",
    "    \n",
    "    while position not in [1,2,3,4,5,6,7,8,9] or not space_check(board, position):\n",
    "        try:\n",
    "            position = int(input('Choose your next position: (1-9) '))\n",
    "        except:\n",
    "            print(\"Please insert a number!\")\n",
    "        \n",
    "    return position"
   ]
  },
  {
   "cell_type": "code",
   "execution_count": 24,
   "metadata": {},
   "outputs": [],
   "source": [
    "def replay():\n",
    "    \"\"\"a function that asks the player if they want to play again and returns a boolean True if they do want to play again.\"\"\"\n",
    "    decision=\" \"\n",
    "    while decision!=\"yes\" and decision!=\"no\":\n",
    "        decision=input(\"Do you want to play again? Yes or No\").lower()\n",
    "    if decision==\"yes\":\n",
    "        return True\n",
    "    elif decision==\"no\":\n",
    "        return False\n",
    "    else:\n",
    "        print(\"Insert correct option\")"
   ]
  },
  {
   "cell_type": "markdown",
   "metadata": {
    "collapsed": true
   },
   "source": [
    "**Assembling Everything**"
   ]
  },
  {
   "cell_type": "code",
   "execution_count": 25,
   "metadata": {},
   "outputs": [
    {
     "name": "stdout",
     "output_type": "stream",
     "text": [
      "O | X | O\n",
      "--|---|--\n",
      "X | X | X\n",
      "--|---|--\n",
      "X | O | O\n",
      "Player1 has won the game\n",
      "Do you want to play again? Yes or Nom\n",
      "Do you want to play again? Yes or Nos\n",
      "Do you want to play again? Yes or Nono\n"
     ]
    }
   ],
   "source": [
    "print('Welcome to Tic Tac Toe!')\n",
    "\n",
    "#while loop to continue playing the game\n",
    "while True:\n",
    "    # at first set up the game (set board,who's gonna play first,set marker)\n",
    "    the_board=[\" \"]*10\n",
    "    player1_marker,player2_marker=player_input()\n",
    "    turn=choose_first()\n",
    "    print(turn+\" will play first!\")\n",
    "    \n",
    "    choice=\" \"\n",
    "    while choice!=\"yes\" and choice!=\"no\":\n",
    "        choice=input(\"Ready to play? Yes or No\").lower()\n",
    "    if choice==\"yes\":\n",
    "        game_on=True\n",
    "    elif choice==\"no\":\n",
    "        break\n",
    "    else:\n",
    "        print(\"Insert correct option\")\n",
    "    \n",
    "    while game_on:\n",
    "        \n",
    "        if turn == \"Player 1\":\n",
    "            display_board(the_board)                    #showing the board to player            \n",
    "            pos=player_choice(the_board)                #player will choose position\n",
    "            if not space_check(the_board,pos):\n",
    "                print(\"The space is not empty\")\n",
    "            place_marker(the_board,player1_marker,pos)  #pacing the marker based on the choice of position\n",
    "            if win_check(the_board,player1_marker):\n",
    "                display_board(the_board)\n",
    "                print(\"Player1 has won the game\")       #check if this player has won\n",
    "                game_on=False\n",
    "            else:\n",
    "                #if not won then check if the board is full.If full,then call it a tie\n",
    "                if full_board_check(the_board):\n",
    "                    display_board(the_board)\n",
    "                    print(\"The game is tied\")\n",
    "                    game_on=False\n",
    "                else:\n",
    "                    #if the game is not over then change turn\n",
    "                    turn=\"Player 2\"\n",
    "                                                            \n",
    "        else:\n",
    "            display_board(the_board)                       #showing the board to player            \n",
    "            pos=player_choice(the_board)                   #player will choose position\n",
    "            place_marker(the_board,player2_marker,pos)       #pacing the marker based on the choice of position\n",
    "            if win_check(the_board,player2_marker):\n",
    "                display_board(the_board)\n",
    "                print(\"Player2 has won the game\")               #check if this player has won\n",
    "                game_on=False\n",
    "            else:\n",
    "            #if not won then check if the board full.If full,then call it a tie\n",
    "                if full_board_check(the_board):\n",
    "                    display_board(the_board)\n",
    "                    print(\"The game is tied\")\n",
    "                    game_on=False\n",
    "                else:\n",
    "                    turn=\"Player 1\"\n",
    "            \n",
    "                                   \n",
    "     \n",
    "    \n",
    "    \n",
    "\n",
    "    \n",
    "    \n",
    "    if replay()==False:   #end the game if the player don't want to replay\n",
    "        break\n"
   ]
  },
  {
   "cell_type": "code",
   "execution_count": null,
   "metadata": {},
   "outputs": [],
   "source": []
  },
  {
   "cell_type": "code",
   "execution_count": null,
   "metadata": {},
   "outputs": [],
   "source": []
  }
 ],
 "metadata": {
  "kernelspec": {
   "display_name": "Python 3",
   "language": "python",
   "name": "python3"
  },
  "language_info": {
   "codemirror_mode": {
    "name": "ipython",
    "version": 3
   },
   "file_extension": ".py",
   "mimetype": "text/x-python",
   "name": "python",
   "nbconvert_exporter": "python",
   "pygments_lexer": "ipython3",
   "version": "3.8.3"
  }
 },
 "nbformat": 4,
 "nbformat_minor": 1
}
