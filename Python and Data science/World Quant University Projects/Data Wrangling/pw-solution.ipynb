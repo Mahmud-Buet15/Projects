{
 "cells": [
  {
   "cell_type": "code",
   "execution_count": 10,
   "metadata": {
    "init_cell": true
   },
   "outputs": [],
   "source": [
    "%logstop\n",
    "%logstart -rtq ~/.logs/pw.py append\n",
    "%matplotlib inline\n",
    "import matplotlib\n",
    "import seaborn as sns\n",
    "sns.set()\n",
    "matplotlib.rcParams['figure.dpi'] = 144"
   ]
  },
  {
   "cell_type": "code",
   "execution_count": 3,
   "metadata": {},
   "outputs": [],
   "source": [
    "from static_grader import grader"
   ]
  },
  {
   "cell_type": "markdown",
   "metadata": {},
   "source": [
    "# PW Miniproject\n",
    "## Introduction\n",
    "\n",
    "The objective of this miniproject is to exercise your ability to use basic Python data structures, define functions, and control program flow. We will be using these concepts to perform some fundamental data wrangling tasks such as joining data sets together, splitting data into groups, and aggregating data into summary statistics.\n",
    "**Please do not use `pandas` or `numpy` to answer these questions.**\n",
    "\n",
    "We will be working with medical data from the British NHS on prescription drugs. Since this is real data, it contains many ambiguities that we will need to confront in our analysis. This is commonplace in data science, and is one of the lessons you will learn in this miniproject."
   ]
  },
  {
   "cell_type": "markdown",
   "metadata": {},
   "source": [
    "## Downloading the data\n",
    "\n",
    "We first need to download the data we'll be using from Amazon S3:"
   ]
  },
  {
   "cell_type": "code",
   "execution_count": 4,
   "metadata": {},
   "outputs": [
    {
     "name": "stderr",
     "output_type": "stream",
     "text": [
      "mkdir: cannot create directory ‘pw-data’: File exists\n",
      "File ‘./pw-data/201701scripts_sample.json.gz’ already there; not retrieving.\n",
      "\n",
      "File ‘./pw-data/practices.json.gz’ already there; not retrieving.\n",
      "\n"
     ]
    }
   ],
   "source": [
    "%%bash\n",
    "mkdir pw-data\n",
    "wget http://dataincubator-wqu.s3.amazonaws.com/pwdata/201701scripts_sample.json.gz -nc -P ./pw-data\n",
    "wget http://dataincubator-wqu.s3.amazonaws.com/pwdata/practices.json.gz -nc -P ./pw-data"
   ]
  },
  {
   "cell_type": "markdown",
   "metadata": {},
   "source": [
    "## Loading the data\n",
    "\n",
    "The first step of the project is to read in the data. We will discuss reading and writing various kinds of files later in the course, but the code below should get you started."
   ]
  },
  {
   "cell_type": "code",
   "execution_count": 5,
   "metadata": {},
   "outputs": [],
   "source": [
    "import gzip\n",
    "import simplejson as json"
   ]
  },
  {
   "cell_type": "code",
   "execution_count": 6,
   "metadata": {},
   "outputs": [],
   "source": [
    "with gzip.open('./pw-data/201701scripts_sample.json.gz', 'rb') as f:\n",
    "    scripts = json.load(f)\n",
    "\n",
    "with gzip.open('./pw-data/practices.json.gz', 'rb') as f:\n",
    "    practices = json.load(f)"
   ]
  },
  {
   "cell_type": "markdown",
   "metadata": {},
   "source": [
    "This data set comes from Britain's National Health Service. The `scripts` variable is a list of prescriptions issued by NHS doctors. Each prescription is represented by a dictionary with various data fields: `'practice'`, `'bnf_code'`, `'bnf_name'`, `'quantity'`, `'items'`, `'nic'`, and `'act_cost'`. "
   ]
  },
  {
   "cell_type": "code",
   "execution_count": null,
   "metadata": {},
   "outputs": [],
   "source": []
  },
  {
   "cell_type": "code",
   "execution_count": 7,
   "metadata": {},
   "outputs": [
    {
     "data": {
      "text/plain": [
       "[{'bnf_code': '0101010G0AAABAB',\n",
       "  'items': 2,\n",
       "  'practice': 'N81013',\n",
       "  'bnf_name': 'Co-Magaldrox_Susp 195mg/220mg/5ml S/F',\n",
       "  'nic': 5.98,\n",
       "  'act_cost': 5.56,\n",
       "  'quantity': 1000},\n",
       " {'bnf_code': '0101021B0AAAHAH',\n",
       "  'items': 1,\n",
       "  'practice': 'N81013',\n",
       "  'bnf_name': 'Alginate_Raft-Forming Oral Susp S/F',\n",
       "  'nic': 1.95,\n",
       "  'act_cost': 1.82,\n",
       "  'quantity': 500}]"
      ]
     },
     "execution_count": 7,
     "metadata": {},
     "output_type": "execute_result"
    }
   ],
   "source": [
    "scripts[:2]"
   ]
  },
  {
   "cell_type": "markdown",
   "metadata": {},
   "source": [
    "A [glossary of terms](http://webarchive.nationalarchives.gov.uk/20180328130852tf_/http://content.digital.nhs.uk/media/10686/Download-glossary-of-terms-for-GP-prescribing---presentation-level/pdf/PLP_Presentation_Level_Glossary_April_2015.pdf/) and [FAQ](http://webarchive.nationalarchives.gov.uk/20180328130852tf_/http://content.digital.nhs.uk/media/10048/FAQs-Practice-Level-Prescribingpdf/pdf/PLP_FAQs_April_2015.pdf/) is available from the NHS regarding the data. Below we supply a data dictionary briefly describing what these fields mean.\n",
    "\n",
    "| Data field |Description|\n",
    "|:----------:|-----------|\n",
    "|`'practice'`|Code designating the medical practice issuing the prescription|\n",
    "|`'bnf_code'`|British National Formulary drug code|\n",
    "|`'bnf_name'`|British National Formulary drug name|\n",
    "|`'quantity'`|Number of capsules/quantity of liquid/grams of powder prescribed|\n",
    "| `'items'`  |Number of refills (e.g. if `'quantity'` is 30 capsules, 3 `'items'` means 3 bottles of 30 capsules)|\n",
    "|  `'nic'`   |Net ingredient cost|\n",
    "|`'act_cost'`|Total cost including containers, fees, and discounts|"
   ]
  },
  {
   "cell_type": "markdown",
   "metadata": {},
   "source": [
    "The `practices` variable is a list of member medical practices of the NHS. Each practice is represented by a dictionary containing identifying information for the medical practice. Most of the data fields are self-explanatory. Notice the values in the `'code'` field of `practices` match the values in the `'practice'` field of `scripts`."
   ]
  },
  {
   "cell_type": "code",
   "execution_count": 8,
   "metadata": {},
   "outputs": [
    {
     "data": {
      "text/plain": [
       "[{'code': 'A81001',\n",
       "  'name': 'THE DENSHAM SURGERY',\n",
       "  'addr_1': 'THE HEALTH CENTRE',\n",
       "  'addr_2': 'LAWSON STREET',\n",
       "  'borough': 'STOCKTON ON TEES',\n",
       "  'village': 'CLEVELAND',\n",
       "  'post_code': 'TS18 1HU'},\n",
       " {'code': 'A81002',\n",
       "  'name': 'QUEENS PARK MEDICAL CENTRE',\n",
       "  'addr_1': 'QUEENS PARK MEDICAL CTR',\n",
       "  'addr_2': 'FARRER STREET',\n",
       "  'borough': 'STOCKTON ON TEES',\n",
       "  'village': 'CLEVELAND',\n",
       "  'post_code': 'TS18 2AW'}]"
      ]
     },
     "execution_count": 8,
     "metadata": {},
     "output_type": "execute_result"
    }
   ],
   "source": [
    "practices[:2]"
   ]
  },
  {
   "cell_type": "markdown",
   "metadata": {},
   "source": [
    "In the following questions we will ask you to explore this data set. You may need to combine pieces of the data set together in order to answer some questions. Not every element of the data set will be used in answering the questions."
   ]
  },
  {
   "cell_type": "markdown",
   "metadata": {},
   "source": [
    "## Question 1: summary_statistics\n",
    "\n",
    "Our beneficiary data (`scripts`) contains quantitative data on the number of items dispensed (`'items'`), the total quantity of item dispensed (`'quantity'`), the net cost of the ingredients (`'nic'`), and the actual cost to the patient (`'act_cost'`). Whenever working with a new data set, it can be useful to calculate summary statistics to develop a feeling for the volume and character of the data. This makes it easier to spot trends and significant features during further stages of analysis.\n",
    "\n",
    "Calculate the sum, mean, standard deviation, and quartile statistics for each of these quantities. Format your results for each quantity as a list: `[sum, mean, standard deviation, 1st quartile, median, 3rd quartile]`. We'll create a `tuple` with these lists for each quantity as a final result."
   ]
  },
  {
   "cell_type": "code",
   "execution_count": 9,
   "metadata": {},
   "outputs": [
    {
     "name": "stdout",
     "output_type": "stream",
     "text": [
      "(316356836, 826.5883059943667, 3872.1860733044696, 30, 120.0, 466)\n"
     ]
    }
   ],
   "source": [
    "\n",
    "\n",
    "def describe(key):\n",
    "    import statistics\n",
    "    lst=[]\n",
    "    for dic in scripts:\n",
    "        for k, v in dic.items():\n",
    "            if k == key:\n",
    "                lst.append(v)\n",
    "    lst=sorted(lst)    \n",
    "    total = sum(lst)\n",
    "    avg = statistics.mean(lst)\n",
    "    s = statistics.stdev(lst)\n",
    "    mid=len(lst)//2\n",
    "    x=lst[:mid]\n",
    "    y=lst[mid:]\n",
    "    q25 = statistics.median(x)\n",
    "    q75 = statistics.median(y)\n",
    "    \n",
    "    med = statistics.median(lst)\n",
    "    \n",
    "\n",
    "    return (total, avg, s, q25, med, q75)\n",
    "\n",
    "print(describe(\"quantity\"))"
   ]
  },
  {
   "cell_type": "code",
   "execution_count": 11,
   "metadata": {},
   "outputs": [
    {
     "data": {
      "text/plain": [
       "[('items', (4410054, 11.522744731217633, 33.11220959819492, 1, 3.0, 8)),\n",
       " ('quantity',\n",
       "  (316356836, 826.5883059943667, 3872.1860733044696, 30, 120.0, 466)),\n",
       " ('nic',\n",
       "  (29048309.790000085,\n",
       "   75.89844899484227,\n",
       "   197.57308474088757,\n",
       "   7.7,\n",
       "   22.62,\n",
       "   65.94)),\n",
       " ('act_cost',\n",
       "  (27053937.60000044,\n",
       "   70.68748295124972,\n",
       "   183.26755837715774,\n",
       "   7.25,\n",
       "   21.24,\n",
       "   61.53))]"
      ]
     },
     "execution_count": 11,
     "metadata": {},
     "output_type": "execute_result"
    }
   ],
   "source": [
    "summary = [('items', describe('items')),\n",
    "           ('quantity', describe('quantity')),\n",
    "           ('nic', describe('nic')),\n",
    "           ('act_cost', describe('act_cost'))]\n",
    "summary"
   ]
  },
  {
   "cell_type": "code",
   "execution_count": 12,
   "metadata": {},
   "outputs": [
    {
     "name": "stdout",
     "output_type": "stream",
     "text": [
      "==================\n",
      "Your score:  1.0\n",
      "==================\n"
     ]
    }
   ],
   "source": [
    "grader.score.pw__summary_statistics(summary)"
   ]
  },
  {
   "cell_type": "markdown",
   "metadata": {},
   "source": [
    "## Question 2: most_common_item\n",
    "\n",
    "Often we are not interested only in how the data is distributed in our entire data set, but within particular groups -- for example, how many items of each drug (i.e. `'bnf_name'`) were prescribed? Calculate the total items prescribed for each `'bnf_name'`. What is the most commonly prescribed `'bnf_name'` in our data?\n",
    "\n",
    "To calculate this, we first need to split our data set into groups corresponding with the different values of `'bnf_name'`. Then we can sum the number of items dispensed within in each group. Finally we can find the largest sum.\n",
    "\n",
    "We'll use `'bnf_name'` to construct our groups. You should have *5619* unique values for `'bnf_name'`."
   ]
  },
  {
   "cell_type": "code",
   "execution_count": 13,
   "metadata": {},
   "outputs": [],
   "source": [
    "bnf_names = []  #making a list of all bnf_names\n",
    "for i in scripts:\n",
    "    if i[\"bnf_name\"] not in bnf_names:\n",
    "        bnf_names.append(i[\"bnf_name\"])\n",
    "assert(len(bnf_names) == 5619)"
   ]
  },
  {
   "cell_type": "markdown",
   "metadata": {},
   "source": [
    "We want to construct \"groups\" identified by `'bnf_name'`, where each group is a collection of prescriptions (i.e. dictionaries from `scripts`). We'll construct a dictionary called `groups`, using `bnf_names` as the keys. We'll represent a group with a `list`, since we can easily append new members to the group. To split our `scripts` into groups by `'bnf_name'`, we should iterate over `scripts`, appending prescription dictionaries to each group as we encounter them."
   ]
  },
  {
   "cell_type": "code",
   "execution_count": 15,
   "metadata": {
    "collapsed": true
   },
   "outputs": [
    {
     "data": {
      "text/plain": [
       "('Co-Magaldrox_Susp 195mg/220mg/5ml S/F',\n",
       " [2,\n",
       "  1,\n",
       "  2,\n",
       "  6,\n",
       "  2,\n",
       "  10,\n",
       "  4,\n",
       "  1,\n",
       "  1,\n",
       "  3,\n",
       "  1,\n",
       "  1,\n",
       "  1,\n",
       "  1,\n",
       "  6,\n",
       "  1,\n",
       "  3,\n",
       "  1,\n",
       "  1,\n",
       "  1,\n",
       "  1,\n",
       "  5,\n",
       "  20,\n",
       "  2,\n",
       "  5,\n",
       "  3,\n",
       "  1])"
      ]
     },
     "execution_count": 15,
     "metadata": {},
     "output_type": "execute_result"
    }
   ],
   "source": [
    "groups = {name: [] for name in bnf_names}  #making a group which represents list of items in each bnf_name for the whole dataset\n",
    "\n",
    "for script in scripts:\n",
    "    \n",
    "    groups[script[\"bnf_name\"]].append(script[\"items\"])\n",
    "    \n",
    "list(groups.items())[0]"
   ]
  },
  {
   "cell_type": "markdown",
   "metadata": {},
   "source": [
    "Now that we've constructed our groups we should sum up `'items'` in each group and find the `'bnf_name'` with the largest sum. The result, `max_item`, should have the form `[(bnf_name, item total)]`, e.g. `[('Foobar', 2000)]`."
   ]
  },
  {
   "cell_type": "code",
   "execution_count": 16,
   "metadata": {},
   "outputs": [],
   "source": [
    "total_items_bnf=[(k,sum(v)) for k,v in groups.items()] #calculating the total items in each bnf_names "
   ]
  },
  {
   "cell_type": "code",
   "execution_count": 17,
   "metadata": {},
   "outputs": [
    {
     "data": {
      "text/plain": [
       "[('3m Health Care_Cavilon Durable Barrier C', 1998),\n",
       " ('3m Health Care_Cavilon No Sting 1ml Barr', 247),\n",
       " ('3m Health Care_Cavilon No Sting 3ml Barr', 39),\n",
       " ('3m Health Care_Cavilon No Sting Barrier', 350),\n",
       " ('A.S Saliva Orthana Spy 50ml (App)', 25)]"
      ]
     },
     "execution_count": 17,
     "metadata": {},
     "output_type": "execute_result"
    }
   ],
   "source": [
    "sorted(total_items_bnf)[:5]"
   ]
  },
  {
   "cell_type": "code",
   "execution_count": 18,
   "metadata": {},
   "outputs": [
    {
     "name": "stdout",
     "output_type": "stream",
     "text": [
      "[('Omeprazole_Cap E/C 20mg', 113826)]\n"
     ]
    }
   ],
   "source": [
    "max_item = [sorted(total_items_bnf,key=lambda x:x[1],reverse=True)[0]] #sorting the list in decending order to find out which bnf_names has maximum items\n",
    "print(max_item)"
   ]
  },
  {
   "cell_type": "markdown",
   "metadata": {},
   "source": [
    "**TIP:** If you are getting an error from the grader below, please make sure your answer conforms to the correct format of `[(bnf_name, item total)]`."
   ]
  },
  {
   "cell_type": "code",
   "execution_count": 19,
   "metadata": {},
   "outputs": [
    {
     "name": "stdout",
     "output_type": "stream",
     "text": [
      "==================\n",
      "Your score:  1.0\n",
      "==================\n"
     ]
    }
   ],
   "source": [
    "grader.score.pw__most_common_item(max_item)"
   ]
  },
  {
   "cell_type": "markdown",
   "metadata": {},
   "source": [
    "**Challenge:** Write a function that constructs groups as we did above. The function should accept a list of dictionaries (e.g. `scripts` or `practices`) and a tuple of fields to `groupby` (e.g. `('bnf_name')` or `('bnf_name', 'post_code')`) and returns a dictionary of groups. The following questions will require you to aggregate data in groups, so this could be a useful function for the rest of the miniproject."
   ]
  },
  {
   "cell_type": "code",
   "execution_count": 20,
   "metadata": {},
   "outputs": [],
   "source": [
    "def group_by_field(data, fields):  #making a fuction which can make a group like bnf_names for any fields in any data set\n",
    "    \n",
    "    for field in fields:\n",
    "        names=[]  \n",
    "        for i in data:\n",
    "            if i[field] not in names:\n",
    "                names.append(i[field])    #making a list of fields\n",
    "            \n",
    "        groups= {name: [] for name in names}\n",
    "        for d in data:\n",
    "    \n",
    "            groups[d[field]].append(d[\"items\"])  #making a list of items in each field\n",
    "        \n",
    "        \n",
    "    \n",
    "    return groups"
   ]
  },
  {
   "cell_type": "code",
   "execution_count": 21,
   "metadata": {},
   "outputs": [
    {
     "name": "stdout",
     "output_type": "stream",
     "text": [
      "[('Omeprazole_Cap E/C 20mg', 113826)]\n"
     ]
    }
   ],
   "source": [
    "groups = group_by_field(scripts, ('bnf_name',))\n",
    "result=[(k,sum(v)) for k,v in groups.items()]\n",
    "test_max_item = [sorted(result,key=lambda x:x[1],reverse=True)[0]]\n",
    "print(test_max_item)\n",
    "\n",
    "assert test_max_item == max_item"
   ]
  },
  {
   "cell_type": "markdown",
   "metadata": {},
   "source": [
    "## Question 3: postal_totals\n",
    "\n",
    "Our data set is broken up among different files. This is typical for tabular data to reduce redundancy. Each table typically contains data about a particular type of event, processes, or physical object. Data on prescriptions and medical practices are in separate files in our case. If we want to find the total items prescribed in each postal code, we will have to _join_ our prescription data (`scripts`) to our clinic data (`practices`).\n",
    "\n",
    "Find the total items prescribed in each postal code, representing the results as a list of tuples `(post code, total items prescribed)`. Sort your results ascending alphabetically by post code and take only results from the first 100 post codes. Only include post codes if there is at least one prescription from a practice in that post code.\n",
    "\n",
    "**NOTE:** Some practices have multiple postal codes associated with them. Use the alphabetically first postal code."
   ]
  },
  {
   "cell_type": "markdown",
   "metadata": {},
   "source": [
    "We can join `scripts` and `practices` based on the fact that `'practice'` in `scripts` matches `'code'` in `practices`. However, we must first deal with the repeated values of `'code'` in `practices`. We want the alphabetically first postal codes."
   ]
  },
  {
   "cell_type": "code",
   "execution_count": 22,
   "metadata": {},
   "outputs": [
    {
     "data": {
      "text/plain": [
       "[{'bnf_code': '0101010G0AAABAB',\n",
       "  'items': 2,\n",
       "  'practice': 'N81013',\n",
       "  'bnf_name': 'Co-Magaldrox_Susp 195mg/220mg/5ml S/F',\n",
       "  'nic': 5.98,\n",
       "  'act_cost': 5.56,\n",
       "  'quantity': 1000},\n",
       " {'bnf_code': '0101021B0AAAHAH',\n",
       "  'items': 1,\n",
       "  'practice': 'N81013',\n",
       "  'bnf_name': 'Alginate_Raft-Forming Oral Susp S/F',\n",
       "  'nic': 1.95,\n",
       "  'act_cost': 1.82,\n",
       "  'quantity': 500}]"
      ]
     },
     "execution_count": 22,
     "metadata": {},
     "output_type": "execute_result"
    }
   ],
   "source": [
    "scripts[:2]"
   ]
  },
  {
   "cell_type": "code",
   "execution_count": 23,
   "metadata": {
    "scrolled": true
   },
   "outputs": [
    {
     "data": {
      "text/plain": [
       "{'code': 'A81001',\n",
       " 'name': 'THE DENSHAM SURGERY',\n",
       " 'addr_1': 'THE HEALTH CENTRE',\n",
       " 'addr_2': 'LAWSON STREET',\n",
       " 'borough': 'STOCKTON ON TEES',\n",
       " 'village': 'CLEVELAND',\n",
       " 'post_code': 'TS18 1HU'}"
      ]
     },
     "execution_count": 23,
     "metadata": {},
     "output_type": "execute_result"
    }
   ],
   "source": [
    "practices[0]"
   ]
  },
  {
   "cell_type": "code",
   "execution_count": 24,
   "metadata": {
    "collapsed": true
   },
   "outputs": [
    {
     "name": "stdout",
     "output_type": "stream",
     "text": [
      "[('A81023', 'TS1 2NX'), ('A81029', 'TS1 2NX'), ('A81037', 'TS1 2NX'), ('A81004', 'TS1 3BE'), ('A81016', 'TS1 3QY'), ('A81035', 'TS1 3RX'), ('A81030', 'TS1 3RY'), ('A81045', 'TS10 1SR'), ('A81015', 'TS10 1TZ'), ('A81054', 'TS10 1UA'), ('A81018', 'TS10 4NW'), ('A81052', 'TS10 4NW'), ('A81047', 'TS11 6BW'), ('A81048', 'TS11 7BL'), ('A81013', 'TS12 2FF'), ('A81022', 'TS12 2TG'), ('A81053', 'TS13 4HW'), ('A81005', 'TS14 7DJ'), ('A81032', 'TS14 7DJ'), ('A81027', 'TS15 9DD'), ('A81039', 'TS16 9EA'), ('A81017', 'TS17 0EE'), ('A81034', 'TS17 0EE'), ('A81001', 'TS18 1HU'), ('A81025', 'TS18 1HU'), ('A81046', 'TS18 1YE'), ('A81006', 'TS18 2AT'), ('A81002', 'TS18 2AW'), ('A81036', 'TS20 2UZ'), ('A81040', 'TS23 2DG'), ('A81014', 'TS23 2LA'), ('A81007', 'TS24 7PW'), ('A81011', 'TS24 7PW'), ('A81031', 'TS24 7PW'), ('A81041', 'TS24 9DN'), ('A81044', 'TS25 1QU'), ('A81003', 'TS26 8DB'), ('A81012', 'TS3 6AL'), ('A81033', 'TS3 6AL'), ('A81038', 'TS3 6AL'), ('A81049', 'TS3 6AL'), ('A81019', 'TS3 7RL'), ('A81020', 'TS4 3BU'), ('A81051', 'TS5 5NN'), ('A81026', 'TS5 6HA'), ('A81009', 'TS5 6HF'), ('A81043', 'TS6 0HA'), ('A81008', 'TS6 6TD'), ('A81021', 'TS6 6TD'), ('A81042', 'TS6 9QG')]\n"
     ]
    }
   ],
   "source": [
    "lst=[]\n",
    "for practice in practices[:50]:\n",
    "    lst.append((practice[\"code\"],practice[\"post_code\"]))\n",
    "print(sorted(lst,key=lambda x:x[1]))"
   ]
  },
  {
   "cell_type": "code",
   "execution_count": 25,
   "metadata": {
    "collapsed": true
   },
   "outputs": [
    {
     "data": {
      "text/plain": [
       "defaultdict(list,\n",
       "            {'A81001': ['TS18 1HU', 'TS18 1HU'],\n",
       "             'A81002': ['TS18 2AW'],\n",
       "             'A81003': ['TS26 8DB', 'TS25 1QU'],\n",
       "             'A81004': ['TS1 3BE', 'TS5 8SB'],\n",
       "             'A81005': ['TS14 7DJ'],\n",
       "             'A81006': ['TS18 2AT', 'TS18 2AT'],\n",
       "             'A81007': ['TS24 7PW'],\n",
       "             'A81008': ['TS6 6TD', 'TS6 9QG'],\n",
       "             'A81009': ['TS5 6HF'],\n",
       "             'A81011': ['TS24 7PW'],\n",
       "             'A81012': ['TS3 6AL'],\n",
       "             'A81013': ['TS12 2FF'],\n",
       "             'A81014': ['TS23 2LA'],\n",
       "             'A81015': ['TS10 1TZ'],\n",
       "             'A81016': ['TS1 3QY'],\n",
       "             'A81017': ['TS17 0EE'],\n",
       "             'A81018': ['TS10 4NW'],\n",
       "             'A81019': ['TS3 7RL'],\n",
       "             'A81020': ['TS4 3BU'],\n",
       "             'A81021': ['TS6 6TD'],\n",
       "             'A81022': ['TS12 2TG'],\n",
       "             'A81023': ['TS1 2NX'],\n",
       "             'A81025': ['TS18 1HU'],\n",
       "             'A81026': ['TS5 6HA'],\n",
       "             'A81027': ['TS15 9DD'],\n",
       "             'A81029': ['TS1 2NX'],\n",
       "             'A81030': ['TS1 3RY'],\n",
       "             'A81031': ['TS24 7PW'],\n",
       "             'A81032': ['TS14 7DJ'],\n",
       "             'A81033': ['TS3 6AL'],\n",
       "             'A81034': ['TS17 0EE'],\n",
       "             'A81035': ['TS1 3RX'],\n",
       "             'A81036': ['TS20 2UZ'],\n",
       "             'A81037': ['TS1 2NX'],\n",
       "             'A81038': ['TS3 6AL'],\n",
       "             'A81039': ['TS16 9EA'],\n",
       "             'A81040': ['TS23 2DG'],\n",
       "             'A81041': ['TS24 9DN'],\n",
       "             'A81042': ['TS6 9QG', 'TS6 9QG'],\n",
       "             'A81043': ['TS6 0HA'],\n",
       "             'A81044': ['TS25 1QU'],\n",
       "             'A81045': ['TS10 1SR'],\n",
       "             'A81046': ['TS18 1YE'],\n",
       "             'A81047': ['TS11 6BW'],\n",
       "             'A81048': ['TS11 7BL'],\n",
       "             'A81049': ['TS3 6AL'],\n",
       "             'A81051': ['TS5 5NN'],\n",
       "             'A81052': ['TS10 4NW'],\n",
       "             'A81053': ['TS13 4HW'],\n",
       "             'A81054': ['TS10 1UA'],\n",
       "             'A81056': ['TS23 2JW'],\n",
       "             'A81057': ['TS23 2LS'],\n",
       "             'A81058': ['TS8 0TL'],\n",
       "             'A81060': ['TS26 8DB'],\n",
       "             'A81063': ['TS24 0NZ'],\n",
       "             'A81064': ['TS1 2NX'],\n",
       "             'A81065': ['TS6 6TD'],\n",
       "             'A81066': ['TS21 1JS'],\n",
       "             'A81067': ['TS18 2BP'],\n",
       "             'A81070': ['TS25 3DQ'],\n",
       "             'A81602': ['TS23 2DG'],\n",
       "             'A81605': ['TS10 3LA'],\n",
       "             'A81608': ['TS17 6NP'],\n",
       "             'A81609': ['TS18 2AT', 'TS18 2AT'],\n",
       "             'A81610': ['TS23 2DG'],\n",
       "             'A81611': ['TS8 0TL'],\n",
       "             'A81612': ['TS25 1AX'],\n",
       "             'A81613': ['TS26 8DB'],\n",
       "             'A81618': ['TS12 1BJ'],\n",
       "             'A81621': ['TS3 9NB'],\n",
       "             'A81622': ['TS26 8DD', 'TS26 8DD', 'TS26 8DF'],\n",
       "             'A81623': ['TS18 2EP'],\n",
       "             'A82003': ['LA12 7BT'],\n",
       "             'A82004': ['CA9 3QX'],\n",
       "             'A82005': ['LA22 9BP'],\n",
       "             'A82006': ['CA16 6QR'],\n",
       "             'A82007': ['LA14 1LF'],\n",
       "             'A82008': ['LA14 5ES'],\n",
       "             'A82009': ['LA13 9SH'],\n",
       "             'A82010': ['LA14 5JY'],\n",
       "             'A82012': ['CA8 1NL'],\n",
       "             'A82013': ['CA17 4RB', 'CA17 4AY'],\n",
       "             'A82014': ['CA7 8DS'],\n",
       "             'A82015': ['CA1 1EB'],\n",
       "             'A82016': ['CA1 1DG', 'CA1 1DG', 'CA1 1DG'],\n",
       "             'A82017': ['CA1 1ED', 'CA1 1DG'],\n",
       "             'A82018': ['CA1 1BP'],\n",
       "             'A82019': ['CA1 2HE'],\n",
       "             'A82020': ['CA2 7AJ'],\n",
       "             'A82021': ['CA13 9HT', 'CA13 9HT', 'CA13 9HT'],\n",
       "             'A82022': ['CA5 7PZ', 'CA5 7PZ'],\n",
       "             'A82023': ['CA14 5UR'],\n",
       "             'A82024': ['CA20 1PN'],\n",
       "             'A82025': ['LA9 4JE'],\n",
       "             'A82026': ['LA9 7HR'],\n",
       "             'A82027': ['LA9 6SA'],\n",
       "             'A82028': ['CA12 4DB'],\n",
       "             'A82029': ['CA7 5JH'],\n",
       "             'A82030': ['LA6 2HQ'],\n",
       "             'A82031': ['CA10 3LW'],\n",
       "             'A82032': ['CA15 8EL'],\n",
       "             'A82033': ['LA18 4BY'],\n",
       "             'A82034': ['LA7 7PW'],\n",
       "             'A82035': ['CA11 8HW', 'CA11 8HW'],\n",
       "             'A82036': ['CA11 8HW'],\n",
       "             'A82037': ['CA7 4AH'],\n",
       "             'A82038': ['CA10 1RW'],\n",
       "             'A82039': ['LA15 8AB'],\n",
       "             'A82040': ['CA28 7PD'],\n",
       "             'A82041': ['CA28 7RG'],\n",
       "             'A82044': ['CA22 2BD'],\n",
       "             'A82045': ['CA7 9QD'],\n",
       "             'A82046': ['LA23 2EG'],\n",
       "             'A82047': ['CA14 2DL'],\n",
       "             'A82048': ['CA14 3FT'],\n",
       "             'A82049': ['CA14 2ED'],\n",
       "             'A82050': ['CA14 2AJ'],\n",
       "             'A82052': ['CA3 9JZ', 'CA1 1DG'],\n",
       "             'A82053': ['LA11 7DJ'],\n",
       "             'A82055': ['CA7 3HH'],\n",
       "             'A82057': ['CA13 9HT', 'CA13 9HT'],\n",
       "             'A82058': ['CA28 7BA'],\n",
       "             'A82060': ['CA28 7PA'],\n",
       "             'A82062': ['LA14 2LR'],\n",
       "             'A82063': ['CA12 5JY'],\n",
       "             'A82064': ['CA22 2DB'],\n",
       "             'A82065': ['LA11 7JY', 'LA11 7DJ'],\n",
       "             'A82068': ['LA12 7BT'],\n",
       "             'A82070': ['LA23 1BA'],\n",
       "             'A82071': ['LA14 3HY'],\n",
       "             'A82072': ['LA13 9RX'],\n",
       "             'A82074': ['LA5 0DP'],\n",
       "             'A82075': ['CA28 7BU'],\n",
       "             'A82608': ['LA10 5DL'],\n",
       "             'A82613': ['LA21 8ER'],\n",
       "             'A82617': ['CA10 1DQ'],\n",
       "             'A82619': ['LA15 8AF'],\n",
       "             'A82620': ['CA11 0PD'],\n",
       "             'A82621': ['LA16 7JP'],\n",
       "             'A82623': ['CA14 2RW'],\n",
       "             'A82629': ['LA14 5SL'],\n",
       "             'A82631': ['CA4 0HP'],\n",
       "             'A82635': ['CA1 1LB'],\n",
       "             'A82641': ['CA1 1LB'],\n",
       "             'A82642': ['LA22 0NU', 'LA22 9BP'],\n",
       "             'A82646': ['CA6 5XA'],\n",
       "             'A82647': ['LA11 6PH'],\n",
       "             'A83001': ['DL16 6QA'],\n",
       "             'A83003': ['DL15 0EQ'],\n",
       "             'A83004': ['SR7 8LF'],\n",
       "             'A83005': ['DL1 3RT'],\n",
       "             'A83006': ['DL3 6HZ'],\n",
       "             'A83007': ['TS27 4LQ'],\n",
       "             'A83008': ['DL4 2HP'],\n",
       "             'A83009': ['DH3 3SL'],\n",
       "             'A83010': ['DL3 9JP'],\n",
       "             'A83011': ['DH1 1QW'],\n",
       "             'A83012': ['SR8 5TW'],\n",
       "             'A83013': ['DL1 4YL'],\n",
       "             'A83014': ['DH1 2QW'],\n",
       "             'A83015': ['DL14 6AB'],\n",
       "             'A83016': ['DH9 8AD'],\n",
       "             'A83017': ['DH6 3HW'],\n",
       "             'A83018': ['DH8 5YA'],\n",
       "             'A83019': ['DH6 2JL', 'DH1 2QW'],\n",
       "             'A83020': ['DL15 9HU'],\n",
       "             'A83021': ['DL14 6RP'],\n",
       "             'A83022': ['DH7 8NH'],\n",
       "             'A83023': ['DH9 0AB'],\n",
       "             'A83024': ['DH4 6RQ'],\n",
       "             'A83025': ['DL14 7EJ'],\n",
       "             'A83026': ['DH7 6JW'],\n",
       "             'A83027': ['DH6 4DH'],\n",
       "             'A83028': ['DH3 3QD'],\n",
       "             'A83029': ['DH3 4LE'],\n",
       "             'A83030': ['DH7 7DG'],\n",
       "             'A83031': ['DL3 8SQ'],\n",
       "             'A83032': ['DL13 5AF'],\n",
       "             'A83033': ['DH2 1HS'],\n",
       "             'A83034': ['DL3 7JR'],\n",
       "             'A83035': ['DL13 2XD'],\n",
       "             'A83036': ['DH1 5BH'],\n",
       "             'A83037': ['DL5 5LH'],\n",
       "             'A83038': ['NE16 6HU'],\n",
       "             'A83040': ['DL1 5JN'],\n",
       "             'A83041': ['SR7 9AB'],\n",
       "             'A83042': ['TS28 5PZ'],\n",
       "             'A83043': ['DL12 0QE'],\n",
       "             'A83044': ['SR8 4QP'],\n",
       "             'A83045': ['DL17 8JJ'],\n",
       "             'A83046': ['DL12 8HT'],\n",
       "             'A83047': ['DL3 0PD'],\n",
       "             'A83048': ['DL2 2DS'],\n",
       "             'A83049': ['DH8 0BW'],\n",
       "             'A83050': ['DH2 3DJ'],\n",
       "             'A83051': ['SR7 7JE'],\n",
       "             'A83052': ['DL16 6ED'],\n",
       "             'A83054': ['TS21 3BN'],\n",
       "             'A83055': ['DH1 2UW'],\n",
       "             'A83057': ['SR8 4LD'],\n",
       "             'A83060': ['DL13 5NX'],\n",
       "             'A83061': ['DL2 3BE'],\n",
       "             'A83066': ['DL5 4SE'],\n",
       "             'A83068': ['SR8 4PF'],\n",
       "             'A83070': ['DL2 1AA', 'DL2 1HA', 'DL2 1HA'],\n",
       "             'A83071': ['SR7 7JE'],\n",
       "             'A83072': ['DH7 0LP'],\n",
       "             'A83073': ['DH9 7XT'],\n",
       "             'A83603': ['DL16 6BQ'],\n",
       "             'A83610': ['TS28 5PZ'],\n",
       "             'A83616': ['DH6 2LQ'],\n",
       "             'A83617': ['DH7 9YT'],\n",
       "             'A83618': ['NE17 7SB'],\n",
       "             'A83619': ['DH6 2LT'],\n",
       "             'A83622': ['DH7 0BD'],\n",
       "             'A83626': ['DL14 9SU'],\n",
       "             'A83627': ['DH6 2TH'],\n",
       "             'A83630': ['DH7 8SJ'],\n",
       "             'A84002': ['NE65 7UW'],\n",
       "             'A84003': ['NE63 9UT'],\n",
       "             'A84005': ['NE22 6JX'],\n",
       "             'A84006': ['NE66 2NL'],\n",
       "             'A84007': ['NE20 9SD'],\n",
       "             'A84008': ['NE70 7ER'],\n",
       "             'A84009': ['NE24 1DX', 'NE24 1HD', 'NE24 1HD'],\n",
       "             'A84011': ['NE20 9SD'],\n",
       "             'A84013': ['NE22 7DU'],\n",
       "             'A84014': ['NE24 1DX'],\n",
       "             'A84015': ['NE63 0XX'],\n",
       "             'A84016': ['NE42 5PW'],\n",
       "             'A84018': ['NE45 5LG'],\n",
       "             'A84020': ['NE62 5RA'],\n",
       "             'A84021': ['NE66 2NR'],\n",
       "             'A84022': ['NE65 0HD'],\n",
       "             'A84024': ['NE46 1QJ'],\n",
       "             'A84025': ['NE23 6QN'],\n",
       "             'A84026': ['TD15 1LL'],\n",
       "             'A84027': ['NE48 2HE'],\n",
       "             'A84028': ['NE63 0NG'],\n",
       "             'A84029': ['NE61 5LX'],\n",
       "             'A84030': ['NE23 6US'],\n",
       "             'A84031': ['NE61 1JX'],\n",
       "             'A84032': ['NE71 6BL'],\n",
       "             'A84033': ['NE46 1QJ'],\n",
       "             'A84034': ['NE49 9AP'],\n",
       "             'A84035': ['NE41 8DH'],\n",
       "             'A84036': ['NE61 1BJ'],\n",
       "             'A84037': ['NE23 7EF'],\n",
       "             'A84038': ['NE23 6QN'],\n",
       "             'A84039': ['NE61 1JX'],\n",
       "             'A84040': ['NE46 4BU'],\n",
       "             'A84042': ['NE61 4EG'],\n",
       "             'A84043': ['NE23 1XZ'],\n",
       "             'A84044': ['TD15 2HB'],\n",
       "             'A84045': ['NE47 6LA'],\n",
       "             'A84047': ['NE43 7LL'],\n",
       "             'A84604': ['NE71 6BL'],\n",
       "             'A84609': ['NE65 9PR'],\n",
       "             'A84613': ['NE65 7DG'],\n",
       "             'A85001': ['NE9 5EY'],\n",
       "             'A85002': ['NE8 2XB'],\n",
       "             'A85003': ['NE39 1PW'],\n",
       "             'A85004': ['NE10 8PH'],\n",
       "             'A85005': ['NE8 1RQ'],\n",
       "             'A85006': ['NE11 9AD'],\n",
       "             'A85007': ['NE9 5XY'],\n",
       "             'A85008': ['DH3 2QT'],\n",
       "             'A85009': ['NE10 9QG'],\n",
       "             'A85010': ['NE21 5AE'],\n",
       "             'A85011': ['NE10 9QG'],\n",
       "             'A85012': ['NE8 1HR'],\n",
       "             'A85013': ['NE8 1AD'],\n",
       "             'A85014': ['NE40 4US'],\n",
       "             'A85016': ['NE9 7AD'],\n",
       "             'A85017': ['NE8 4DP'],\n",
       "             'A85018': ['NE21 4RD'],\n",
       "             'A85019': ['NE8 1NB'],\n",
       "             'A85020': ['NE16 4PD'],\n",
       "             'A85021': ['NE8 2UR'],\n",
       "             'A85023': ['NE8 2PQ'],\n",
       "             'A85024': ['NE17 7BU'],\n",
       "             'A85605': ['NE40 3NT'],\n",
       "             'A85609': ['NE8 4QR'],\n",
       "             'A85611': ['NE10 0RR'],\n",
       "             'A85614': ['NE8 1AD'],\n",
       "             'A86003': ['NE1 8DQ'],\n",
       "             'A86004': ['NE4 8AY'],\n",
       "             'A86005': ['NE12 8LS'],\n",
       "             'A86006': ['NE3 1NB'],\n",
       "             'A86007': ['NE2 1JQ'],\n",
       "             'A86008': ['NE3 2PE'],\n",
       "             'A86009': ['NE6 1SG', 'NE6 1SG'],\n",
       "             'A86010': ['NE6 5SL'],\n",
       "             'A86011': ['NE6 3BS'],\n",
       "             'A86012': ['NE4 9QB'],\n",
       "             'A86013': ['NE5 2QW'],\n",
       "             'A86015': ['NE2 2AH'],\n",
       "             'A86016': ['NE7 7XX'],\n",
       "             'A86017': ['NE4 7JT'],\n",
       "             'A86018': ['NE3 1NU'],\n",
       "             'A86020': ['NE2 3LD'],\n",
       "             'A86021': ['NE4 8QB'],\n",
       "             'A86022': ['NE5 1LJ'],\n",
       "             'A86023': ['NE6 4QD'],\n",
       "             'A86024': ['NE6 1SA'],\n",
       "             'A86025': ['NE5 2LH'],\n",
       "             'A86026': ['NE15 9PA'],\n",
       "             'A86027': ['NE1 7XR'],\n",
       "             'A86028': ['NE3 1DQ'],\n",
       "             'A86029': ['NE6 1SG'],\n",
       "             'A86030': ['NE15 6TQ'],\n",
       "             'A86031': ['NE4 9XD'],\n",
       "             'A86033': ['NE3 5NF'],\n",
       "             'A86035': ['NE3 5JP'],\n",
       "             'A86036': ['NE3 1TX'],\n",
       "             'A86037': ['NE4 6SH'],\n",
       "             'A86038': ['NE15 8LX'],\n",
       "             'A86601': ['NE5 2UY'],\n",
       "             'A87002': ['NE29 0HQ'],\n",
       "             'A87003': ['NE28 6RZ'],\n",
       "             'A87004': ['NE29 0SF'],\n",
       "             'A87005': ['NE26 2ND'],\n",
       "             'A87006': ['NE26 1NA'],\n",
       "             'A87007': ['NE12 9BQ'],\n",
       "             'A87008': ['NE26 3LW'],\n",
       "             'A87009': ['NE29 0HT'],\n",
       "             'A87011': ['NE25 9XJ'],\n",
       "             'A87012': ['NE13 6LN'],\n",
       "             'A87013': ['NE28 0AD'],\n",
       "             'A87014': ['NE27 0HJ'],\n",
       "             'A87015': ['NE29 0SF'],\n",
       "             'A87016': ['NE28 6BB'],\n",
       "             'A87017': ['NE13 6JJ'],\n",
       "             'A87019': ['NE29 0DZ'],\n",
       "             'A87020': ['NE25 9PH'],\n",
       "             'A87022': ['NE27 0HJ'],\n",
       "             'A87023': ['NE27 0HJ', 'NE27 0HJ'],\n",
       "             'A87027': ['NE28 0PP'],\n",
       "             'A87029': ['NE28 7LP'],\n",
       "             'A87030': ['NE29 6HT'],\n",
       "             'A87600': ['NE26 1DU'],\n",
       "             'A87612': ['NE12 6HS'],\n",
       "             'A88001': ['NE31 1NU'],\n",
       "             'A88002': ['NE33 4QY'],\n",
       "             'A88003': ['NE34 6RE'],\n",
       "             'A88004': ['NE32 5SE'],\n",
       "             'A88005': ['NE34 9BP'],\n",
       "             'A88006': ['NE34 0BX'],\n",
       "             'A88007': ['NE33 4DX'],\n",
       "             'A88008': ['NE33 5DU'],\n",
       "             'A88009': ['NE35 9AN'],\n",
       "             'A88010': ['NE32 5AG'],\n",
       "             'A88011': ['NE33 4JP', 'NE10 9QG'],\n",
       "             'A88012': ['NE31 2SP'],\n",
       "             'A88013': ['NE34 8PS'],\n",
       "             'A88014': ['NE33 4JP', 'NE33 4JP'],\n",
       "             'A88015': ['NE33 5DU'],\n",
       "             'A88016': ['NE35 9AN', 'NE35 9AN'],\n",
       "             'A88020': ['NE33 2PG', 'NE33 2PG'],\n",
       "             'A88022': ['NE31 1NU'],\n",
       "             'A88023': ['SR6 7EE'],\n",
       "             'A88025': ['NE32 3UX'],\n",
       "             'A88601': ['NE33 4EG'],\n",
       "             'A88603': ['NE31 1NU'],\n",
       "             'A88608': ['NE33 3ET'],\n",
       "             'A88611': ['NE33 4JP'],\n",
       "             'A89001': ['SR2 8AD'],\n",
       "             'A89002': ['SR1 2HJ'],\n",
       "             'A89003': ['NE38 7NQ'],\n",
       "             'A89004': ['DH5 9EZ'],\n",
       "             'A89005': ['SR2 8AX'],\n",
       "             'A89006': ['SR4 7XF', 'SR4 7XF'],\n",
       "             'A89007': ['SR4 7XF'],\n",
       "             'A89008': ['SR5 5PS'],\n",
       "             'A89009': ['DH4 4LE'],\n",
       "             'A89010': ['NE37 2PU'],\n",
       "             'A89011': ['SR3 2AN'],\n",
       "             'A89012': ['NE38 7NQ'],\n",
       "             'A89013': ['SR1 2QB'],\n",
       "             'A89014': ['SR6 0HT', 'SR6 0AB'],\n",
       "             'A89015': ['SR6 8DZ'],\n",
       "             'A89016': ['SR6 0QQ'],\n",
       "             'A89017': ['SR4 7AF'],\n",
       "             'A89018': ['SR2 8JG'],\n",
       "             'A89019': ['SR5 2LT'],\n",
       "             'A89020': ['SR4 6QE'],\n",
       "             'A89021': ['DH4 5EQ'],\n",
       "             'A89022': ['NE37 2PU'],\n",
       "             'A89023': ['DH4 4DN'],\n",
       "             'A89024': ['SR3 4HG'],\n",
       "             'A89025': ['NE38 7NQ', 'NE38 7NQ'],\n",
       "             'A89026': ['NE37 2PU'],\n",
       "             'A89027': ['SR3 4HG'],\n",
       "             'A89028': ['DH4 4RB'],\n",
       "             'A89029': ['SR3 1RN'],\n",
       "             'A89030': ['DH4 4RW'],\n",
       "             'A89031': ['SR4 7XF'],\n",
       "             'A89032': ['SR3 2AN'],\n",
       "             'A89034': ['SR2 7BA'],\n",
       "             'A89035': ['SR2 0RX'],\n",
       "             'A89036': ['SR5 3EX'],\n",
       "             'A89038': ['NE38 8JF', 'NE38 7NQ'],\n",
       "             'A89040': ['SR6 0AB'],\n",
       "             'A89041': ['SR3 4BY', 'SR3 4BY'],\n",
       "             'A89042': ['SR3 2AW'],\n",
       "             'A89603': ['SR5 2LT'],\n",
       "             'A89604': ['SR5 2LT'],\n",
       "             'A89610': ['SR2 0RY'],\n",
       "             'A89611': ['SR2 7PF', 'SR4 6QE'],\n",
       "             'A89612': ['SR1 1XW'],\n",
       "             'A89614': ['SR4 0LS'],\n",
       "             'A89616': ['NE38 9EH'],\n",
       "             'A89617': ['NE38 9AB'],\n",
       "             'B81002': ['HU7 4DW'],\n",
       "             'B81003': ['DN35 8EB'],\n",
       "             'B81004': ['HU18 1LP'],\n",
       "             'B81005': ['DN18 5ER'],\n",
       "             'B81006': ['YO15 2QW'],\n",
       "             'B81007': ['DN15 9TA'],\n",
       "             'B81008': ['HU9 2LJ', 'HU9 2LJ'],\n",
       "             'B81009': ['YO43 3FF'],\n",
       "             'B81010': ['HU13 9LZ'],\n",
       "             'B81011': ['HU3 5QE'],\n",
       "             'B81012': ['DN31 3AE'],\n",
       "             'B81013': ['DN14 6JD'],\n",
       "             'B81014': ['YO16 4LZ'],\n",
       "             'B81015': ['DN35 7XE'],\n",
       "             'B81016': ['DN31 1QZ'],\n",
       "             'B81017': ['HU3 1TY'],\n",
       "             'B81018': ['HU6 9BS', 'HU6 9BS'],\n",
       "             'B81019': ['DN32 9SW', 'DN32 9SW'],\n",
       "             'B81020': ['HU7 4PT'],\n",
       "             'B81021': ['HU6 7ER'],\n",
       "             'B81022': ['DN16 3LG'],\n",
       "             'B81023': ['DN31 1QZ'],\n",
       "             'B81024': ['HU10 6BP'],\n",
       "             'B81025': ['HU19 2PZ'],\n",
       "             'B81026': ['DN16 2AB'],\n",
       "             'B81027': ['HU3 4BB', 'HU7 4DW', 'HU3 4BB'],\n",
       "             'B81029': ['DN14 9DY'],\n",
       "             'B81030': ['DN33 3JF'],\n",
       "             'B81031': ['DN34 4GB'],\n",
       "             'B81032': ['HU1 3SA'],\n",
       "             'B81034': ['HU17 5NL'],\n",
       "             'B81035': ['HU5 3TJ'],\n",
       "             'B81036': ['YO42 2BS'],\n",
       "             'B81037': ['YO25 6EB'],\n",
       "             'B81038': ['HU4 6RF'],\n",
       "             'B81039': ['DN40 1JW'],\n",
       "             'B81040': ['HU9 5HH'],\n",
       "             'B81041': ['HU15 2UL'],\n",
       "             'B81042': ['HU17 7BZ', 'HU17 7BZ'],\n",
       "             'B81043': ['DN9 1EP'],\n",
       "             'B81045': ['DN16 2UT'],\n",
       "             'B81046': ['HU6 9BX'],\n",
       "             'B81047': ['HU3 1DS'],\n",
       "             'B81048': ['HU5 2NT', 'HU5 2NT'],\n",
       "             'B81049': ['HU6 8QF'],\n",
       "             'B81050': ['HU12 8JD'],\n",
       "             'B81051': ['HU17 8JW'],\n",
       "             'B81052': ['HU5 3QA'],\n",
       "             'B81053': ['HU9 4AL'],\n",
       "             'B81054': ['HU5 2ST'],\n",
       "             'B81055': ['DN35 0LN'],\n",
       "             'B81056': ['HU5 5JT'],\n",
       "             'B81057': ['HU3 6BX'],\n",
       "             'B81058': ['HU3 4BB', 'HU13 0RG'],\n",
       "             'B81060': ['YO15 2AT'],\n",
       "             'B81061': ['HU15 1AY'],\n",
       "             'B81062': ['HU12 8JE'],\n",
       "             'B81063': ['DN20 8NT'],\n",
       "             'B81064': ['DN15 7AN'],\n",
       "             'B81065': ['DN17 3DR'],\n",
       "             'B81066': ['HU9 3JA'],\n",
       "             'B81068': ['DN14 6RU'],\n",
       "             'B81069': ['YO16 4LZ'],\n",
       "             'B81070': ['YO16 4LZ'],\n",
       "             'B81072': ['HU5 2NT', 'HU5 2NT'],\n",
       "             'B81074': ['HU9 2LR', 'HU9 2LR'],\n",
       "             'B81075': ['HU5 5BE'],\n",
       "             'B81077': ['DN34 4GB'],\n",
       "             'B81080': ['HU8 9RW'],\n",
       "             'B81081': ['HU9 2LJ', 'HU9 2LJ'],\n",
       "             'B81082': ['HU17 7JY'],\n",
       "             'B81084': ['HU16 4AJ'],\n",
       "             'B81085': ['HU8 8JS'],\n",
       "             'B81087': ['DN34 5DX'],\n",
       "             'B81088': ['DN14 7DD'],\n",
       "             'B81089': ['HU9 5AD'],\n",
       "             'B81090': ['DN15 7PG'],\n",
       "             'B81091': ['DN34 4GB'],\n",
       "             'B81092': ['YO25 6UH'],\n",
       "             'B81094': ['HU7 4BJ'],\n",
       "             'B81095': ['HU6 7HP'],\n",
       "             'B81097': ['HU9 3JA'],\n",
       "             'B81099': ['DN21 4PQ'],\n",
       "             'B81100': ['HU10 6QJ'],\n",
       "             'B81101': ['HU17 0HB', 'HU17 0HB', 'HU17 0HB'],\n",
       "             'B81104': ['HU5 2EG'],\n",
       "             'B81108': ['DN31 2BH'],\n",
       "             'B81109': ['DN20 8AS'],\n",
       "             'B81112': ['HU7 4DW', 'HU7 4DW', 'HU7 4DW'],\n",
       "             'B81113': ['DN16 2AB'],\n",
       "             'B81602': ['HU16 4DA'],\n",
       "             'B81603': ['DN32 9SW'],\n",
       "             'B81606': ['DN31 3AE'],\n",
       "             'B81616': ['HU7 4DW'],\n",
       "             'B81617': ['DN15 6HX'],\n",
       "             'B81619': ['HU13 9AJ'],\n",
       "             'B81620': ['DN35 7DL'],\n",
       "             'B81622': ['HU17 9BP', 'HU17 0HB'],\n",
       "             'B81628': ['DN38 6HZ'],\n",
       "             'B81631': ['HU7 5DD'],\n",
       "             'B81634': ['HU7 4DW'],\n",
       "             'B81635': ['HU11 4AR', 'HU11 4AR'],\n",
       "             'B81642': ['DN35 0LN'],\n",
       "             'B81644': ['HU8 9LF', 'HU1 3SA'],\n",
       "             'B81645': ['HU9 3JA'],\n",
       "             'B81647': ['DN18 5PU'],\n",
       "             'B81648': ['DN40 3EL'],\n",
       "             'B81653': ['HU16 4QX'],\n",
       "             'B81655': ['DN36 4QG', 'DN34 4GB'],\n",
       "             'B81656': ['DN34 5LP'],\n",
       "             'B81658': ['HU13 0RG'],\n",
       "             'B81663': ['DN31 2BH'],\n",
       "             'B81664': ['DN31 3AE'],\n",
       "             'B81665': ['DN41 7JB'],\n",
       "             'B81666': ['HU14 3DB'],\n",
       "             'B81671': ['DN34 5DA'],\n",
       "             'B82001': ['YO11 1UB'],\n",
       "             'B82002': ['YO61 3JR'],\n",
       "             'B82003': ['YO30 4RZ', 'YO24 4HD'],\n",
       "             'B82004': ['HG3 5AT'],\n",
       "             'B82005': ['YO24 3WX'],\n",
       "             'B82006': ['YO30 6PS', 'YO24 4HD'],\n",
       "             'B82007': ['BD24 9JA'],\n",
       "             'B82008': ['HG4 1HL'],\n",
       "             'B82010': ['HG4 2BE'],\n",
       "             'B82011': ['YO17 8PH'],\n",
       "             'B82012': ['HG2 8AY'],\n",
       "             'B82013': ['HG1 5JP'],\n",
       "             'B82014': ['HG2 7SA'],\n",
       "             'B82016': ['HG1 5AR'],\n",
       "             'B82017': ['YO21 1SD'],\n",
       "             'B82018': ['YO19 6LE'],\n",
       "             'B82019': ['YO7 3RP', 'YO7 3RP'],\n",
       "             'B82020': ['BD20 7LG', 'BD20 7LG'],\n",
       "             'B82021': ['YO24 4DB'],\n",
       "             'B82022': ['TS9 6BL'],\n",
       "             'B82023': ['DL10 7LD'],\n",
       "             'B82024': ['YO11 3LJ'],\n",
       "             'B82025': ['YO17 9RF'],\n",
       "             'B82026': ['YO32 2LL'],\n",
       "             'B82027': ['HG1 5AR'],\n",
       "             'B82028': ['BD23 1EU'],\n",
       "             'B82029': ['DL11 7TH'],\n",
       "             'B82030': ['HG4 3SE'],\n",
       "             'B82031': ['LS25 6ED'],\n",
       "             'B82032': ['YO51 9BD'],\n",
       "             'B82033': ['YO18 8BL'],\n",
       "             'B82034': ['DL10 4BB', 'DL10 4BB', 'DL10 4BB'],\n",
       "             'B82035': ['DL10 6HB'],\n",
       "             'B82036': ['HG4 2AX'],\n",
       "             'B82037': ['YO14 9AE'],\n",
       "             'B82038': ['YO12 7LB'],\n",
       "             'B82041': ['YO8 9AJ'],\n",
       "             'B82042': ['YO7 1LU'],\n",
       "             'B82044': ['TS9 5DY'],\n",
       "             'B82045': ['DL8 3QR'],\n",
       "             'B82046': ['TS13 5AY'],\n",
       "             'B82047': ['YO10 4DU'],\n",
       "             'B82049': ['YO7 1LG'],\n",
       "             'B82050': ['DL7 8FW'],\n",
       "             'B82053': ['BD23 2HZ'],\n",
       "             'B82054': ['YO12 6UB'],\n",
       "             'B82057': ['YO26 8BN'],\n",
       "             'B82059': ['HG1 4HG', 'HG1 4HG'],\n",
       "             'B82060': ['HG5 0AD'],\n",
       "             'B82061': ['LA2 7JP'],\n",
       "             'B82062': ['YO21 1TX'],\n",
       "             'B82063': ['YO13 9JF'],\n",
       "             'B82064': ['YO61 1QW'],\n",
       "             'B82066': ['DL8 2AT'],\n",
       "             'B82067': ['HG5 0JY'],\n",
       "             'B82068': ['YO62 5HD'],\n",
       "             'B82069': ['HG5 0UB'],\n",
       "             'B82071': ['YO23 3UA'],\n",
       "             'B82072': ['DL10 4UJ'],\n",
       "             'B82073': ['LS25 5AA'],\n",
       "             'B82074': ['YO8 4QH'],\n",
       "             'B82075': ['DL7 8AW'],\n",
       "             'B82077': ['YO62 6AR'],\n",
       "             'B82078': ['DL8 5EP'],\n",
       "             'B82079': ['YO61 1LL'],\n",
       "             'B82080': ['YO32 5UA'],\n",
       "             'B82081': ['YO41 4DY'],\n",
       "             'B82083': ['YO24 4HD'],\n",
       "             'B82086': ['YO21 2PA'],\n",
       "             'B82088': ['YO12 7AS'],\n",
       "             'B82091': ['HG1 5AR'],\n",
       "             'B82092': ['YO11 1UB'],\n",
       "             'B82095': ['YO26 5LD'],\n",
       "             'B82097': ['YO8 4BL'],\n",
       "             'B82098': ['YO1 7NP'],\n",
       "             'B82100': ['YO24 3BZ'],\n",
       "             'B82101': ['YO22 5DP'],\n",
       "             'B82103': ['YO31 7YD'],\n",
       "             'B82104': ['DL9 3JD'],\n",
       "             'B82105': ['LS24 8HD'],\n",
       "             'B82609': ['YO62 4EF'],\n",
       "             'B82611': ['YO12 7RE'],\n",
       "             'B82619': ['YO60 6PS'],\n",
       "             'B82622': ['DL11 6SU'],\n",
       "             'B82628': ['YO14 0NN'],\n",
       "             'B83002': ['LS29 8TQ', 'LS29 8TQ'],\n",
       "             'B83005': ['BD3 7HZ'],\n",
       "             'B83006': ['BD20 0DG'],\n",
       "             'B83007': ['BD9 6LL'],\n",
       "             'B83008': ['BD21 2JH'],\n",
       "             'B83009': ['BD12 9NG'],\n",
       "             'B83010': ['BD6 2DD'],\n",
       "             'B83011': ['BD5 8EL', 'BD5 8EL', 'BD5 8EL'],\n",
       "             'B83012': ['BD8 9PB'],\n",
       "             'B83013': ['BD18 3EE'],\n",
       "             'B83014': ['BD16 4RP'],\n",
       "             'B83015': ['BD4 9QA'],\n",
       "             'B83016': ['BD3 0HX'],\n",
       "             'B83017': ['BD7 4PL'],\n",
       "             'B83018': ['BD10 8RU'],\n",
       "             'B83019': ['LS29 7HG'],\n",
       "             'B83020': ['BD13 2GD'],\n",
       "             'B83021': ['BD21 2LD'],\n",
       "             'B83022': ['BD17 5NH'],\n",
       "             'B83023': ['BD21 1SA', 'BD21 1SA'],\n",
       "             'B83025': ['BD5 0NX'],\n",
       "             'B83026': ['BD3 0BS'],\n",
       "             'B83027': ['BD22 8DH'],\n",
       "             'B83028': ['BD6 1TD'],\n",
       "             'B83029': ['BD12 0TH'],\n",
       "             'B83030': ['BD13 3LG'],\n",
       "             'B83031': ['BD16 3PA'],\n",
       "             'B83032': ['BD3 8QH'],\n",
       "             'B83033': ['BD21 1LA', 'BD21 1LA'],\n",
       "             'B83034': ['BD7 3AH'],\n",
       "             'B83035': ['BD7 3EG'],\n",
       "             'B83037': ['BD15 0NJ'],\n",
       "             'B83038': ['BD9 5PZ', 'BD9 5PZ'],\n",
       "             'B83039': ['BD18 1QB'],\n",
       "             'B83040': ['BD18 4RX'],\n",
       "             'B83041': ['BD4 7SS', 'BD4 7SS'],\n",
       "             'B83042': ['BD4 7SS'],\n",
       "             'B83043': ['BD5 8EL', 'BD5 8EL'],\n",
       "             'B83044': ['BD4 9QA'],\n",
       "             'B83045': ['BD14 6NF'],\n",
       "             'B83049': ['BD14 6ES'],\n",
       "             'B83050': ['BD15 7NJ', 'BD15 7WA'],\n",
       "             'B83051': ['BD5 0HR'],\n",
       "             'B83052': ['BD8 9LB'],\n",
       "             'B83054': ['BD10 9AZ'],\n",
       "             'B83055': ['BD7 3JX'],\n",
       "             'B83056': ['BD2 3AA', 'BD2 3AA', 'BD2 3AA'],\n",
       "             'B83058': ['BD3 8QH'],\n",
       "             'B83061': ['BD22 7HN', 'BD22 7HN'],\n",
       "             'B83062': ['BD10 0JE'],\n",
       "             'B83063': ['BD18 3EG'],\n",
       "             'B83064': ['BD2 1QG'],\n",
       "             'B83067': ['BD16 4RP'],\n",
       "             'B83069': ['BD8 9DW', 'BD8 9DW'],\n",
       "             'B83070': ['BD7 3HY'],\n",
       "             'B83602': ['BD21 3AU'],\n",
       "             'B83604': ['BD8 8RA'],\n",
       "             'B83611': ['BD3 8QH'],\n",
       "             'B83613': ['BD8 7SY'],\n",
       "             'B83614': ['BD8 8RA'],\n",
       "             'B83617': ['BD8 9DW'],\n",
       "             'B83620': ['LS29 0LZ'],\n",
       "             'B83621': ['BD7 3EG'],\n",
       "             'B83622': ['BD8 9LB', 'BD8 9LB'],\n",
       "             'B83624': ['LS29 8TH', 'LS29 8TH'],\n",
       "             'B83626': ['BD2 4RA'],\n",
       "             'B83627': ['BD9 4LH'],\n",
       "             'B83628': ['BD8 7RT'],\n",
       "             'B83629': ['BD2 4RA'],\n",
       "             'B83631': ['BD7 2BL'],\n",
       "             'B83638': ['BD3 0BS'],\n",
       "             'B83641': ['BD8 9DP'],\n",
       "             'B83642': ['BD8 9DW'],\n",
       "             'B84001': ['HX6 3AB'],\n",
       "             'B84002': ['HX1 4NJ'],\n",
       "             'B84003': ['HD6 1AT'],\n",
       "             'B84004': ['HX7 7BZ'],\n",
       "             'B84005': ['HX1 2HB'],\n",
       "             'B84006': ['OL14 5RN'],\n",
       "             'B84007': ['HX6 4BN'],\n",
       "             'B84008': ['HX3 8AF'],\n",
       "             'B84009': ['HX4 8BD'],\n",
       "             'B84010': ['HX2 9LL'],\n",
       "             'B84011': ['HD6 1AT'],\n",
       "             'B84012': ['HX1 4JG'],\n",
       "             'B84013': ['HX2 0QL'],\n",
       "             'B84014': ['HD6 3NA', 'HD6 3NA'],\n",
       "             'B84016': ['HX5 9BA'],\n",
       "             'B84017': ['HX5 0AQ'],\n",
       "             'B84019': ['HX1 2ES'],\n",
       "             'B84021': ['HX1 3LW'],\n",
       "             'B84610': ['HX1 5UA'],\n",
       "             'B84612': ['HX1 5AX'],\n",
       "             'B84613': ['HX2 8AL', 'HX2 8AL'],\n",
       "             'B84615': ['HX3 9QB'],\n",
       "             'B84618': ['HX2 8RQ'],\n",
       "             'B84623': ['HD6 3HT'],\n",
       "             'B85001': ['BD19 5AP'],\n",
       "             'B85002': ['HD8 9JL'],\n",
       "             'B85004': ['WF13 1HN'],\n",
       "             'B85005': ['HD8 8DJ'],\n",
       "             'B85006': ['HD9 3TR'],\n",
       "             'B85008': ['WF17 5ED'],\n",
       "             'B85009': ['WF13 3JY'],\n",
       "             'B85010': ['HD5 8DY'],\n",
       "             'B85011': ['HD7 5JY', 'HD7 6DF'],\n",
       "             'B85012': ['WF16 0HH'],\n",
       "             'B85014': ['WF16 0HH'],\n",
       "             'B85015': ['WF17 5DN'],\n",
       "             'B85016': ['HD1 3UP'],\n",
       "             'B85018': ['WF17 5SS'],\n",
       "             'B85019': ['WF14 8DU'],\n",
       "             'B85020': ['WF13 1HN'],\n",
       "             'B85021': ['BD19 3RQ'],\n",
       "             'B85022': ['HD9 6AG'],\n",
       "             'B85023': ['HD5 8XW'],\n",
       "             'B85024': ['HD5 9XP'],\n",
       "             'B85025': ['WF17 9PL'],\n",
       "             'B85026': ['HD8 0SJ'],\n",
       "             'B85027': ['HD3 3DY'],\n",
       "             'B85028': ['HD2 2QA'],\n",
       "             'B85030': ['BD19 5AP'],\n",
       "             'B85031': ['HD8 0HH'],\n",
       "             'B85032': ['HD9 5QQ'],\n",
       "             'B85033': ['HD3 3JD'],\n",
       "             'B85036': ['HD3 4LB'],\n",
       "             'B85037': ['HD4 6JE'],\n",
       "             'B85038': ['WF12 0DH'],\n",
       "             'B85041': ['WF17 7PF'],\n",
       "             'B85042': ['HD1 4TS'],\n",
       "             'B85044': ['HD1 3SB'],\n",
       "             'B85048': ['HD2 1DH'],\n",
       "             'B85051': ['HD7 4QQ'],\n",
       "             'B85054': ['HD7 6DF', 'HD7 6DF'],\n",
       "             'B85055': ['WF13 4HT'],\n",
       "             'B85058': ['HD1 5PU'],\n",
       "             'B85059': ['HD7 5AB'],\n",
       "             'B85060': ['HD1 5PX', 'HD1 5PX', 'HD1 5PX', 'HD1 5PX'],\n",
       "             'B85061': ['HD8 9DA'],\n",
       "             'B85606': ['WF12 9DW'],\n",
       "             'B85610': ['HD9 3TP'],\n",
       "             'B85611': ['HD2 1AE'],\n",
       "             'B85612': ['WF15 6DF'],\n",
       "             'B85614': ['HD1 6DZ'],\n",
       "             'B85619': ['WF16 9LQ'],\n",
       "             'B85620': ['WF12 7BD'],\n",
       "             'B85621': ['BD19 5AN'],\n",
       "             'B85622': ['WF17 5QT'],\n",
       "             'B85623': ['HD1 4LE'],\n",
       "             'B85634': ['HD2 2YD'],\n",
       "             'B85636': ['HD1 4QR'],\n",
       "             'B85638': ['HD7 4AQ', 'HD7 4AQ'],\n",
       "             'B85640': ['WF17 9HE'],\n",
       "             'B85641': ['HD1 3XH'],\n",
       "             'B86001': ['LS27 9NB'],\n",
       "             'B86002': ['LS11 8LH'],\n",
       "             'B86003': ['LS12 3HD'],\n",
       "             'B86004': ['LS16 7RX', 'LS16 7RX'],\n",
       "             'B86005': ['LS11 5HT'],\n",
       "             'B86006': ['LS26 0AG', 'LS26 8SZ'],\n",
       "             'B86007': ['LS14 5JS'],\n",
       "             'B86008': ['LS17 7AQ', 'LS17 5DT', 'LS17 5DT'],\n",
       "             'B86009': ['LS15 8BZ', 'LS15 8BZ'],\n",
       "             'B86010': ['LS22 5BQ'],\n",
       "             'B86011': ['LS28 7QR'],\n",
       "             'B86012': ['LS11 8SU'],\n",
       "             'B86013': ['LS17 6PZ'],\n",
       "             'B86014': ['LS28 7DE'],\n",
       "             'B86015': ['LS13 2UP', 'LS13 2UP'],\n",
       "             'B86016': ['LS9 9EF'],\n",
       "             'B86017': ['LS6 2RX'],\n",
       "             'B86018': ['LS28 7XP'],\n",
       "             'B86019': ['LS7 3DR'],\n",
       "             'B86020': ['WF3 3SA'],\n",
       "             'B86022': ['LS8 3BZ'],\n",
       "             'B86023': ['LS17 7BE'],\n",
       "             'B86024': ['LS12 1HU'],\n",
       "             'B86025': ['LS6 1SG'],\n",
       "             'B86028': ['LS27 9EW'],\n",
       "             'B86029': ['LS21 3HD'],\n",
       "             'B86030': ['LS6 2AF'],\n",
       "             'B86031': ['LS7 3EX', 'LS7 3EX'],\n",
       "             'B86032': ['LS21 1BQ'],\n",
       "             'B86033': ['LS22 6RT', 'LS22 6RT'],\n",
       "             'B86034': ['LS23 6PY', 'LS23 6PY'],\n",
       "             'B86035': ['LS10 2PT'],\n",
       "             'B86036': ['LS25 7JN'],\n",
       "             'B86037': ['LS25 7JU', 'LS27 7HL', 'LS25 7JU'],\n",
       "             'B86038': ['LS19 7PS', 'LS19 7PS'],\n",
       "             'B86039': ['LS7 4LF'],\n",
       "             'B86041': ['LS5 3QT'],\n",
       "             'B86042': ['LS10 3NB'],\n",
       "             'B86043': ['LS9 9JD'],\n",
       "             'B86044': ['LS16 6FR'],\n",
       "             'B86047': ['LS19 6DD'],\n",
       "             'B86048': ['LS25 1HB', 'LS25 1HB'],\n",
       "             'B86049': ['LS6 2SF'],\n",
       "             'B86050': ['LS28 5PL'],\n",
       "             'B86051': ['LS19 7JN'],\n",
       "             'B86052': ['LS20 8AR'],\n",
       "             'B86054': ['LS9 9EF'],\n",
       "             'B86055': ['LS15 8BA'],\n",
       "             'B86056': ['LS17 8AE'],\n",
       "             'B86057': ['LS27 9NB'],\n",
       "             'B86058': ['LS28 6DR'],\n",
       "             'B86059': ['LS6 4JN'],\n",
       "             'B86060': ['LS12 1JE'],\n",
       "             'B86061': ['LS8 4HQ'],\n",
       "             'B86062': ['LS14 6DX'],\n",
       "             'B86064': ['WF3 1RQ'],\n",
       "             'B86066': ['LS8 1AY'],\n",
       "             'B86067': ['LS27 9EN'],\n",
       "             'B86068': ['LS5 3JN', 'LS5 3JN'],\n",
       "             'B86069': ['LS4 2EL'],\n",
       "             'B86070': ['LS19 7JN'],\n",
       "             'B86071': ['LS12 5SG'],\n",
       "             'B86074': ['LS18 4JY'],\n",
       "             'B86075': ['LS15 9JB'],\n",
       "             'B86077': ['LS26 0UE'],\n",
       "             'B86081': ['LS9 6AU'],\n",
       "             'B86086': ['LS6 3DS'],\n",
       "             'B86089': ['WF10 2DP'],\n",
       "             'B86092': ['LS25 7AB'],\n",
       "             'B86093': ['LS14 1HX'],\n",
       "             'B86094': ['LS28 9AP'],\n",
       "             'B86095': ['LS11 9RE'],\n",
       "             'B86096': ['LS10 2JJ'],\n",
       "             'B86100': ['LS7 3JT'],\n",
       "             'B86101': ['LS27 7HL'],\n",
       "             'B86102': ['LS9 8RZ'],\n",
       "             'B86103': ['LS8 5DE'],\n",
       "             'B86104': ['LS13 2BL'],\n",
       "             'B86106': ['LS14 6GG'],\n",
       "             'B86107': ['LS17 7AN', 'LS17 5DT'],\n",
       "             'B86623': ['LS8 5BS'],\n",
       "             'B86625': ['LS22 6JS'],\n",
       "             'B86633': ['LS10 2PT'],\n",
       "             'B86638': ['LS9 7RD', 'LS9 7RD'],\n",
       "             'B86642': ['LS10 2PE'],\n",
       "             'B86643': ['LS8 5AN'],\n",
       "             'B86648': ['LS15 8NN'],\n",
       "             'B86651': ['LS8 4HA', 'LS8 4HA'],\n",
       "             'B86654': ['LS8 4AA'],\n",
       "             'B86655': ['LS13 4JH'],\n",
       "             'B86658': ['LS25 1AN'],\n",
       "             'B86666': ['LS7 3JT'],\n",
       "             'B87001': ['WF4 4PA'],\n",
       "             'B87002': ['WF4 5BY'],\n",
       "             'B87003': ['WF7 7HZ'],\n",
       "             'B87004': ['WF1 4PR'],\n",
       "             'B87005': ['WF10 1PH'],\n",
       "             'B87006': ['WF9 3AP'],\n",
       "             'B87007': ['WF8 1NF'],\n",
       "             'B87008': ['WF2 8FE'],\n",
       "             'B87009': ['WF7 5HE'],\n",
       "             'B87011': ['WF8 1SU'],\n",
       "             'B87012': ['WF1 5PN'],\n",
       "             'B87013': ['WF1 2PE'],\n",
       "             'B87015': ['WF8 4PQ'],\n",
       "             'B87016': ['WF9 2RD'],\n",
       "             'B87017': ['WF1 1PG', 'WF1 1PG'],\n",
       "             'B87018': ['WF10 4EN'],\n",
       "             'B87019': ['WF3 4HS'],\n",
       "             'B87020': ['WF2 7GP'],\n",
       "             'B87021': ['WF11 0JA'],\n",
       "             'B87022': ['WF2 9PE'],\n",
       "             'B87023': ['WF10 3TG'],\n",
       "             'B87025': ['WF10 1DP'],\n",
       "             'B87026': ['WF9 4DP'],\n",
       "             'B87027': ['WF1 3JQ', 'WF1 3JQ'],\n",
       "             'B87028': ['WF4 1HJ'],\n",
       "             'B87029': ['SK5 6ET', 'WF1 1PG', 'WF1 1PG', 'WF1 1PG'],\n",
       "             'B87030': ['WF11 8NQ'],\n",
       "             'B87031': ['WF5 8DF'],\n",
       "             'B87032': ['WF7 6JL'],\n",
       "             'B87033': ['WF6 1QD'],\n",
       "             'B87036': ['WF9 3AP'],\n",
       "             'B87039': ['WF6 2AZ'],\n",
       "             'B87040': ['WF5 8DF'],\n",
       "             'B87041': ['WF6 2EP'],\n",
       "             'B87042': ['WF10 2QP'],\n",
       "             'B87044': ['WF2 0DP'],\n",
       "             'B87600': ['WF6 2BU'],\n",
       "             'B87602': ['WF6 2JZ'],\n",
       "             'B87604': ['WF1 4SD'],\n",
       "             'C81001': ['S43 4PL'],\n",
       "             'C81002': ['S21 4BZ', 'S21 4BZ'],\n",
       "             'C81003': ['SK22 4BP'],\n",
       "             'C81004': ['DE5 3TH'],\n",
       "             'C81005': ['DE55 1LU'],\n",
       "             'C81006': ['DE1 1TH'],\n",
       "             'C81007': ['DE1 1FW'],\n",
       "             'C81008': ['S45 9NR'],\n",
       "             'C81009': ['DE1 1PG'],\n",
       "             'C81010': ['NG10 1QQ'],\n",
       "             'C81012': ['S40 2AB'],\n",
       "             'C81013': ['DE45 1SP'],\n",
       "             'C81014': ['DE21 6AT'],\n",
       "             'C81015': ['S41 8DU'],\n",
       "             'C81016': ['DE45 1ED'],\n",
       "             'C81017': ['DE7 6AX'],\n",
       "             'C81018': ['DE6 5HY'],\n",
       "             'C81019': ['DE1 1TH'],\n",
       "             'C81020': ['DE11 0HU'],\n",
       "             'C81021': ['DE7 8ES'],\n",
       "             'C81022': ['DE7 5PZ'],\n",
       "             'C81023': ['NG10 1RY'],\n",
       "             'C81025': ['S18 1PY'],\n",
       "             'C81026': ['NG10 5HZ'],\n",
       "             'C81027': ['DE55 4JJ'],\n",
       "             'C81028': ['DE4 3NL'],\n",
       "             'C81029': ['DE55 5PS'],\n",
       "             'C81030': ['DE4 2SA'],\n",
       "             'C81031': ['DE75 7DX'],\n",
       "             'C81032': ['DE11 0PP'],\n",
       "             'C81033': ['NG20 8DG'],\n",
       "             'C81034': ['SK17 6JP'],\n",
       "             'C81035': ['DE23 8AL'],\n",
       "             'C81036': ['DE1 1DZ'],\n",
       "             'C81037': ['DE6 1DR'],\n",
       "             'C81038': ['DE56 0JB'],\n",
       "             'C81039': ['S32 5QH'],\n",
       "             'C81040': ['DE22 2DS'],\n",
       "             'C81041': ['S44 6DF'],\n",
       "             'C81042': ['DE3 0HA'],\n",
       "             'C81044': ['S41 8NA'],\n",
       "             'C81045': ['S40 4AA'],\n",
       "             'C81046': ['DE7 6GR'],\n",
       "             'C81047': ['DE24 0GE'],\n",
       "             'C81048': ['DE56 4GG'],\n",
       "             'C81049': ['DE75 7HA'],\n",
       "             'C81050': ['DE55 2AA'],\n",
       "             'C81051': ['DE21 6LA'],\n",
       "             'C81052': ['DE75 7AL'],\n",
       "             'C81053': ['DE55 7AH'],\n",
       "             'C81054': ['DE23 3TX'],\n",
       "             'C81055': ['S42 5ND'],\n",
       "             'C81056': ['S45 9NG'],\n",
       "             'C81057': ['DE65 6QT'],\n",
       "             'C81058': ['S43 1JG'],\n",
       "             'C81059': ['DE5 3HR'],\n",
       "             'C81060': ['DE11 7JG'],\n",
       "             'C81061': ['DE7 5PR'],\n",
       "             'C81062': ['DE4 4JG'],\n",
       "             'C81063': ['SK23 0RH'],\n",
       "             'C81064': ['DE22 2QN'],\n",
       "             'C81065': ['SK17 9BZ'],\n",
       "             'C81066': ['DE72 3HG'],\n",
       "             'C81067': ['S40 3PY'],\n",
       "             'C81068': ['DE21 7RJ'],\n",
       "             'C81069': ['DE56 1AY'],\n",
       "             'C81070': ['S18 2EJ'],\n",
       "             'C81071': ['DE23 8JX'],\n",
       "             'C81072': ['DE23 8RJ'],\n",
       "             'C81073': ['DE1 1JX'],\n",
       "             'C81074': ['SK17 9AY'],\n",
       "             'C81075': ['DE6 3BX'],\n",
       "             'C81076': ['SK17 8NS'],\n",
       "             'C81077': ['SK13 7DE'],\n",
       "             'C81080': ['SK23 7SR'],\n",
       "             'C81081': ['SK13 8PS'],\n",
       "             'C81082': ['SK17 0AQ'],\n",
       "             'C81083': ['NG10 1RY'],\n",
       "             'C81084': ['S40 1LE'],\n",
       "             'C81086': ['DE6 1RR'],\n",
       "             'C81087': ['DE24 8GT'],\n",
       "             'C81089': ['S18 8QY'],\n",
       "             'C81090': ['DE7 5PZ'],\n",
       "             'C81091': ['S21 1DX'],\n",
       "             'C81092': ['S33 6RJ', 'S33 6RJ'],\n",
       "             'C81094': ['DE4 5PB', 'DE4 5PB'],\n",
       "             'C81095': ['S21 3TY'],\n",
       "             'C81096': ['S80 4DY'],\n",
       "             'C81097': ['NG10 4NP'],\n",
       "             'C81099': ['DE55 7DW'],\n",
       "             'C81100': ['DE24 8QJ'],\n",
       "             'C81101': ['DE4 3FD'],\n",
       "             'C81104': ['DE12 6JF', 'DE12 6JF'],\n",
       "             'C81106': ['SK13 1DJ'],\n",
       "             'C81108': ['DE73 8EF'],\n",
       "             'C81110': ['DE65 5GZ'],\n",
       "             'C81113': ['DE3 9BJ'],\n",
       "             'C81114': ['DE11 9JT'],\n",
       "             'C81115': ['DE7 5QS'],\n",
       "             'C81118': ['DE23 6QQ'],\n",
       "             'C81604': ['DE7 5AN'],\n",
       "             ...})"
      ]
     },
     "execution_count": 25,
     "metadata": {},
     "output_type": "execute_result"
    }
   ],
   "source": [
    "from collections import defaultdict\n",
    "practice_postal = defaultdict(list)\n",
    "\n",
    "for practice in practices:\n",
    "        \n",
    "    practice_postal[practice['code']].append(practice['post_code'])\n",
    "        \n",
    "practice_postal"
   ]
  },
  {
   "cell_type": "markdown",
   "metadata": {},
   "source": [
    "**Challenge:** This is an aggregation of the practice data grouped by practice codes. Write an alternative implementation of the above cell using the `group_by_field` function you defined previously."
   ]
  },
  {
   "cell_type": "code",
   "execution_count": 26,
   "metadata": {},
   "outputs": [],
   "source": [
    "def group_by_field(data, fields):\n",
    "    \n",
    "    for field in fields:\n",
    "        names=[]\n",
    "        for i in data:\n",
    "            if i[field] not in names: #making a list of names in the given field\n",
    "                names.append(i[field])\n",
    "            \n",
    "        groups= {name: [] for name in names}  \n",
    "        for d in data:\n",
    "    \n",
    "            groups[d[field]].append(d[\"post_code\"])  #making a group which represents a list of \"Post_code\" for each name of field\n",
    "        \n",
    "        for k,v in groups.items():\n",
    "            groups[k]=sorted(v)[0]   #sorting the list in ascending order and keeping the first one\n",
    "            \n",
    "    \n",
    "    return groups"
   ]
  },
  {
   "cell_type": "code",
   "execution_count": 27,
   "metadata": {},
   "outputs": [],
   "source": [
    "practice_postal = group_by_field(practices, ('code',))  #making a group using \"code\" field in \"practices \" dataset"
   ]
  },
  {
   "cell_type": "code",
   "execution_count": 28,
   "metadata": {},
   "outputs": [
    {
     "data": {
      "text/plain": [
       "[('A81001', 'TS18 1HU'), ('A81002', 'TS18 2AW')]"
      ]
     },
     "execution_count": 28,
     "metadata": {},
     "output_type": "execute_result"
    }
   ],
   "source": [
    "list(practice_postal.items())[:2]"
   ]
  },
  {
   "cell_type": "code",
   "execution_count": 29,
   "metadata": {},
   "outputs": [
    {
     "data": {
      "text/plain": [
       "'HP21 8TR'"
      ]
     },
     "execution_count": 29,
     "metadata": {},
     "output_type": "execute_result"
    }
   ],
   "source": [
    "practice_postal['K82019']"
   ]
  },
  {
   "cell_type": "code",
   "execution_count": 30,
   "metadata": {},
   "outputs": [],
   "source": [
    "assert practice_postal['K82019'] == 'HP21 8TR'"
   ]
  },
  {
   "cell_type": "markdown",
   "metadata": {},
   "source": [
    "Now we can join `practice_postal` to `scripts`."
   ]
  },
  {
   "cell_type": "code",
   "execution_count": 31,
   "metadata": {},
   "outputs": [],
   "source": [
    "joined = scripts[:]  #making a new variable copying the scripts dataset (shallow copy)\n",
    "    \n",
    "\n",
    "for script in joined:\n",
    "    script['post_code'] =practice_postal[script[\"practice\"]] #making a new field in the dataset named \"post_code\" in which the value comes from \"practice\" dataset"
   ]
  },
  {
   "cell_type": "code",
   "execution_count": 32,
   "metadata": {},
   "outputs": [
    {
     "data": {
      "text/plain": [
       "[{'bnf_code': '0101010G0AAABAB',\n",
       "  'items': 2,\n",
       "  'practice': 'N81013',\n",
       "  'bnf_name': 'Co-Magaldrox_Susp 195mg/220mg/5ml S/F',\n",
       "  'nic': 5.98,\n",
       "  'act_cost': 5.56,\n",
       "  'quantity': 1000,\n",
       "  'post_code': 'SK11 6JL'},\n",
       " {'bnf_code': '0101021B0AAAHAH',\n",
       "  'items': 1,\n",
       "  'practice': 'N81013',\n",
       "  'bnf_name': 'Alginate_Raft-Forming Oral Susp S/F',\n",
       "  'nic': 1.95,\n",
       "  'act_cost': 1.82,\n",
       "  'quantity': 500,\n",
       "  'post_code': 'SK11 6JL'}]"
      ]
     },
     "execution_count": 32,
     "metadata": {},
     "output_type": "execute_result"
    }
   ],
   "source": [
    "joined[:2]"
   ]
  },
  {
   "cell_type": "code",
   "execution_count": 33,
   "metadata": {},
   "outputs": [
    {
     "name": "stdout",
     "output_type": "stream",
     "text": [
      "[('SK11 6JL', 110071), ('CW5 5NX', 38797), ('CW1 3AW', 64104), ('CW7 1AT', 43164), ('CH65 6TG', 25090), ('CH1 4DS', 34915), ('TS10 4NW', 45161), ('TS24 7PW', 58207), ('TS17 0EE', 68388), ('TS23 2DG', 31646)]\n"
     ]
    }
   ],
   "source": [
    "d={} #making a dictionary which will count the \"items\" in each \"post_code\"\n",
    "for script in joined:\n",
    "    if script[\"post_code\"] in d:\n",
    "        d[script[\"post_code\"]]+=script[\"items\"]  #if the \"post_code\" already remains in the dictionary ,then add the value\n",
    "    else:\n",
    "        d[script[\"post_code\"]]=script[\"items\"] #if it's not already in the dictionary,then make a place for it\n",
    "print(list(d.items())[:10])\n"
   ]
  },
  {
   "cell_type": "markdown",
   "metadata": {},
   "source": [
    "Finally we'll group the prescription dictionaries in `joined` by `'post_code'` and sum up the items prescribed in each group, as we did in the previous question."
   ]
  },
  {
   "cell_type": "code",
   "execution_count": 34,
   "metadata": {},
   "outputs": [
    {
     "name": "stdout",
     "output_type": "stream",
     "text": [
      "[('B11 4BW', 20673), ('B18 7AL', 19001), ('B21 9RY', 29103), ('B23 6DJ', 24859), ('B70 7AW', 36531), ('BB11 2DL', 34356), ('BB2 1AX', 28254), ('BB3 1PY', 54514), ('BB4 5SL', 29388), ('BB7 2JG', 44585), ('BB8 0JZ', 54380), ('BB9 7SR', 38224), ('BD3 8QH', 21010), ('BH18 8EE', 39413), ('BH23 3AF', 32545), ('BL1 8TU', 26132), ('BL3 5HP', 27147), ('BL9 0NJ', 32062), ('BL9 0SN', 35275), ('CB9 8HF', 51337), ('CH1 4DS', 34915), ('CH65 6TG', 25090), ('CT11 8AD', 44358), ('CV1 4FS', 37210), ('CW1 3AW', 64104), ('CW5 5NX', 38797), ('CW7 1AT', 43164), ('DA1 2HA', 26075), ('DA11 8BZ', 24090), ('DN22 7XF', 43091), ('DN34 4GB', 48013), ('FY2 0JG', 69118), ('FY4 1TJ', 62886), ('FY5 2TZ', 44258), ('FY7 8GU', 34473), ('GL1 3PX', 38120), ('GL50 4DP', 74822), ('GU9 9QS', 32131), ('HA0 4UZ', 22755), ('HA3 7LT', 32113), ('HG1 5AR', 32684), ('HU7 4DW', 49107), ('KT14 6DH', 26758), ('KT6 6EZ', 38975), ('L31 0DJ', 32065), ('L36 7XY', 22965), ('L5 0QW', 24676), ('L7 6HD', 42569), ('LA1 1PN', 47335), ('LE10 1DS', 49335), ('LE18 2EW', 37144), ('LE5 3GH', 28654), ('LN2 2JP', 46173), ('LS9 9EF', 48051), ('M11 4EJ', 23166), ('M26 2SP', 37718), ('M30 0NU', 25597), ('M35 0AD', 37632), ('ME8 8AA', 25257), ('N9 7HD', 30706), ('NE10 9QG', 39882), ('NE24 1DX', 50491), ('NE37 2PU', 57500), ('NE38 7NQ', 52803), ('NG7 3GW', 17698), ('NG7 5HY', 24903), ('NN16 8DN', 50771), ('NW10 8RY', 21553), ('OL1 1NL', 41046), ('OL11 1DN', 21567), ('OL4 1YN', 24687), ('OL9 7AY', 28394), ('PL7 1AD', 65051), ('RM3 9SU', 25476), ('S63 9EH', 34787), ('S65 1DA', 71683), ('S74 9AF', 55305), ('SE1 6JP', 45030), ('SE15 5LJ', 15258), ('SK11 6JL', 110071), ('SK6 1ND', 28313), ('SM3 8EP', 24965), ('SM6 0HY', 46016), ('SR4 7XF', 49843), ('SR5 2LT', 44895), ('SS0 7AF', 21569), ('SS13 3HQ', 38513), ('SS8 0JA', 45848), ('SS9 5UU', 26095), ('ST1 4PB', 24227), ('ST3 6AB', 38705), ('ST8 6AG', 34516), ('TN24 0GP', 16955), ('TN34 1BA', 47440), ('TR1 2JA', 40194), ('TS1 2NX', 47623), ('TS10 4NW', 45161), ('TS17 0EE', 68388), ('TS23 2DG', 31646), ('TS24 7PW', 58207)]\n"
     ]
    }
   ],
   "source": [
    "items_by_post = [(k,v) for k,v in d.items()]\n",
    "print(sorted(items_by_post)[:100]) # sorting the dictionary in ascending order and taking the value of first 100"
   ]
  },
  {
   "cell_type": "code",
   "execution_count": 35,
   "metadata": {},
   "outputs": [
    {
     "name": "stdout",
     "output_type": "stream",
     "text": [
      "==================\n",
      "Your score:  1.0\n",
      "==================\n"
     ]
    }
   ],
   "source": [
    "postal_totals = sorted(items_by_post)[:100]\n",
    "\n",
    "grader.score.pw__postal_totals(postal_totals)"
   ]
  },
  {
   "cell_type": "markdown",
   "metadata": {},
   "source": [
    "## Question 4: items_by_region\n",
    "\n",
    "Now we'll combine the techniques we've developed to answer a more complex question. Find the most commonly dispensed item in each postal code, representing the results as a list of tuples (`post_code`, `bnf_name`, amount dispensed as proportion of total). Sort your results ascending alphabetically by post code and take only results from the first 100 post codes.\n",
    "\n",
    "**NOTE:** We'll continue to use the `joined` variable we created before, where we've chosen the alphabetically first postal code for each practice. Additionally, some postal codes will have multiple `'bnf_name'` with the same number of items prescribed for the maximum. In this case, we'll take the alphabetically first `'bnf_name'`."
   ]
  },
  {
   "cell_type": "markdown",
   "metadata": {},
   "source": [
    "Now we need to calculate the total items of each `'bnf_name'` prescribed in each `'post_code'`. Use the techniques we developed in the previous questions to calculate these totals. You should have 141196 `('post_code', 'bnf_name')` groups."
   ]
  },
  {
   "cell_type": "code",
   "execution_count": 36,
   "metadata": {},
   "outputs": [],
   "source": [
    "def group_by_post_bnf(data):\n",
    "    from collections import defaultdict    \n",
    "    groups=defaultdict(list)\n",
    "    \n",
    "    for d in data:\n",
    "        groups[(d[\"post_code\"],d[\"bnf_name\"])].append(d[\"items\"])  #making a dictionary with all the items same postal code and same bnf_name\n",
    "        \n",
    "    #let calculate the total item for each bnf_names\n",
    "    \n",
    "    new_group={k:sum(v) for k,v in groups.items()}\n",
    "    return new_group #returns a dictionary"
   ]
  },
  {
   "cell_type": "code",
   "execution_count": 37,
   "metadata": {},
   "outputs": [
    {
     "data": {
      "text/plain": [
       "[(('SK11 6JL', 'Co-Magaldrox_Susp 195mg/220mg/5ml S/F'), 5),\n",
       " (('SK11 6JL', 'Alginate_Raft-Forming Oral Susp S/F'), 3),\n",
       " (('SK11 6JL', 'Sod Algin/Pot Bicarb_Susp S/F'), 94),\n",
       " (('SK11 6JL', 'Sod Alginate/Pot Bicarb_Tab Chble 500mg'), 9),\n",
       " (('SK11 6JL', 'Gaviscon Infant_Sach 2g (Dual Pack) S/F'), 41)]"
      ]
     },
     "execution_count": 37,
     "metadata": {},
     "output_type": "execute_result"
    }
   ],
   "source": [
    "x=group_by_post_bnf(joined)\n",
    "list(x.items())[:5]"
   ]
  },
  {
   "cell_type": "code",
   "execution_count": 38,
   "metadata": {},
   "outputs": [],
   "source": [
    "total_items_by_bnf_post =[(k,v) for k,v in x.items()]\n",
    "assert len(total_items_by_bnf_post) == 141196"
   ]
  },
  {
   "cell_type": "code",
   "execution_count": 39,
   "metadata": {},
   "outputs": [
    {
     "data": {
      "text/plain": [
       "[(('SK11 6JL', 'Co-Magaldrox_Susp 195mg/220mg/5ml S/F'), 5),\n",
       " (('SK11 6JL', 'Alginate_Raft-Forming Oral Susp S/F'), 3)]"
      ]
     },
     "execution_count": 39,
     "metadata": {},
     "output_type": "execute_result"
    }
   ],
   "source": [
    "total_items_by_bnf_post[:2]"
   ]
  },
  {
   "cell_type": "markdown",
   "metadata": {},
   "source": [
    "Let's use `total_items` to find the maximum item total for each postal code. To do this, we will want to regroup `total_items_by_bnf_post` by `'post_code'` only, not by `('post_code', 'bnf_name')`. First let's turn `total_items` into a list of dictionaries (similar to `scripts` or `practices`) and then group it by `'post_code'`. You should have 118 groups in the resulting `total_items_by_post` after grouping `total_items` by `'post_code'`."
   ]
  },
  {
   "cell_type": "code",
   "execution_count": 40,
   "metadata": {},
   "outputs": [],
   "source": [
    "total_items = {}\n",
    "for k,v in x.items():\n",
    "    if k[0] not in total_items:\n",
    "        total_items[k[0]]=v\n",
    "    else:\n",
    "        total_items[k[0]]+=v\n",
    "        \n",
    "total_items_by_post=[(k,v) for k,v in total_items.items()]\n",
    "assert len(total_items_by_post) == 118"
   ]
  },
  {
   "cell_type": "code",
   "execution_count": 41,
   "metadata": {},
   "outputs": [
    {
     "data": {
      "text/plain": [
       "[('SK11 6JL', 110071),\n",
       " ('CW5 5NX', 38797),\n",
       " ('CW1 3AW', 64104),\n",
       " ('CW7 1AT', 43164),\n",
       " ('CH65 6TG', 25090)]"
      ]
     },
     "execution_count": 41,
     "metadata": {},
     "output_type": "execute_result"
    }
   ],
   "source": [
    "total_items_by_post[:5]"
   ]
  },
  {
   "cell_type": "markdown",
   "metadata": {},
   "source": [
    "Now we will aggregate the groups in `total_by_item_post` to create `max_item_by_post`. Some `'bnf_name'` have the same item total within a given postal code. Therefore, if more than one `'bnf_name'` has the maximum item total in a given postal code, we'll take the alphabetically first `'bnf_name'`. We can do this by [sorting](https://docs.python.org/2.7/howto/sorting.html) each group according to the item total and `'bnf_name'`."
   ]
  },
  {
   "cell_type": "code",
   "execution_count": 42,
   "metadata": {},
   "outputs": [
    {
     "data": {
      "text/plain": [
       "[(('B11 4BW', 'Salbutamol_Inha 100mcg (200 D) CFF'), 706),\n",
       " (('B11 4BW', 'Paracet_Tab 500mg'), 451),\n",
       " (('B11 4BW', 'Metformin HCl_Tab 500mg'), 387),\n",
       " (('B11 4BW', 'Lansoprazole_Cap 30mg (E/C Gran)'), 385),\n",
       " (('B11 4BW', 'Amoxicillin_Cap 500mg'), 350)]"
      ]
     },
     "execution_count": 42,
     "metadata": {},
     "output_type": "execute_result"
    }
   ],
   "source": [
    "sorted_by_max=sorted(total_items_by_bnf_post,key=lambda x : (x[0][0],-x[1],x[0][1]))  #sorting by post_code,value,bnf_name respectively\n",
    "sorted_by_max[:5]"
   ]
  },
  {
   "cell_type": "code",
   "execution_count": 43,
   "metadata": {},
   "outputs": [
    {
     "data": {
      "text/plain": [
       "118"
      ]
     },
     "execution_count": 43,
     "metadata": {},
     "output_type": "execute_result"
    }
   ],
   "source": [
    "max_item_by_post =[]\n",
    "s=set()\n",
    "for item in sorted_by_max:\n",
    "    \n",
    "    if item[0][0] not in s:\n",
    "        max_item_by_post.append((*item[0],item[1]))     #taking the maximum value of a post. taking the values by ascending bnf_name  if more than one maximum value exists\n",
    "        s.add(item[0][0])\n",
    "        \n",
    "len(max_item_by_post)"
   ]
  },
  {
   "cell_type": "code",
   "execution_count": 44,
   "metadata": {},
   "outputs": [
    {
     "data": {
      "text/plain": [
       "[('B11 4BW', 'Salbutamol_Inha 100mcg (200 D) CFF', 706),\n",
       " ('B18 7AL', 'Salbutamol_Inha 100mcg (200 D) CFF', 556),\n",
       " ('B21 9RY', 'Metformin HCl_Tab 500mg', 1033),\n",
       " ('B23 6DJ', 'Lansoprazole_Cap 30mg (E/C Gran)', 599),\n",
       " ('B70 7AW', 'Paracet_Tab 500mg', 975),\n",
       " ('BB11 2DL', 'Omeprazole_Cap E/C 20mg', 991),\n",
       " ('BB2 1AX', 'Omeprazole_Cap E/C 20mg', 1030),\n",
       " ('BB3 1PY', 'Omeprazole_Cap E/C 20mg', 1869),\n",
       " ('BB4 5SL', 'Omeprazole_Cap E/C 20mg', 1196),\n",
       " ('BB7 2JG', 'Omeprazole_Cap E/C 20mg', 1314)]"
      ]
     },
     "execution_count": 44,
     "metadata": {},
     "output_type": "execute_result"
    }
   ],
   "source": [
    "max_item_by_post[:10]"
   ]
  },
  {
   "cell_type": "markdown",
   "metadata": {},
   "source": [
    "In order to express the item totals as a proportion of the total amount of items prescribed across all `'bnf_name'` in a postal code, we'll need to use the total items prescribed that we previously calculated as `items_by_post`. Calculate the proportions for the most common `'bnf_names'` for each postal code. Format your answer as a list of tuples: `[(post_code, bnf_name, total)]`"
   ]
  },
  {
   "cell_type": "code",
   "execution_count": 45,
   "metadata": {},
   "outputs": [
    {
     "data": {
      "text/plain": [
       "[('B11 4BW', 20673),\n",
       " ('B18 7AL', 19001),\n",
       " ('B21 9RY', 29103),\n",
       " ('B23 6DJ', 24859),\n",
       " ('B70 7AW', 36531)]"
      ]
     },
     "execution_count": 45,
     "metadata": {},
     "output_type": "execute_result"
    }
   ],
   "source": [
    "sorted_total_by_post=sorted(total_items_by_post)\n",
    "sorted_total_by_post[:5]"
   ]
  },
  {
   "cell_type": "code",
   "execution_count": 46,
   "metadata": {},
   "outputs": [
    {
     "data": {
      "text/plain": [
       "[('B11 4BW', 'Salbutamol_Inha 100mcg (200 D) CFF', 0.03415082474725487),\n",
       " ('B18 7AL', 'Salbutamol_Inha 100mcg (200 D) CFF', 0.02926161780958897),\n",
       " ('B21 9RY', 'Metformin HCl_Tab 500mg', 0.03549462254750369),\n",
       " ('B23 6DJ', 'Lansoprazole_Cap 30mg (E/C Gran)', 0.024095900880968663),\n",
       " ('B70 7AW', 'Paracet_Tab 500mg', 0.0266896608360023),\n",
       " ('BB11 2DL', 'Omeprazole_Cap E/C 20mg', 0.02884503434625684),\n",
       " ('BB2 1AX', 'Omeprazole_Cap E/C 20mg', 0.03645501521908402),\n",
       " ('BB3 1PY', 'Omeprazole_Cap E/C 20mg', 0.03428477088454342),\n",
       " ('BB4 5SL', 'Omeprazole_Cap E/C 20mg', 0.040696883081529876),\n",
       " ('BB7 2JG', 'Omeprazole_Cap E/C 20mg', 0.029471795446899183)]"
      ]
     },
     "execution_count": 46,
     "metadata": {},
     "output_type": "execute_result"
    }
   ],
   "source": [
    "new_lst=[]\n",
    "for i in range(118):\n",
    "    assert max_item_by_post[i][0]==sorted_total_by_post[i][0]\n",
    "    v=max_item_by_post[i][-1]/sorted_total_by_post[i][-1]\n",
    "    new_lst.append((max_item_by_post[i][0],max_item_by_post[i][1],v))\n",
    "    \n",
    "sorted(new_lst)[:10]"
   ]
  },
  {
   "cell_type": "code",
   "execution_count": 47,
   "metadata": {},
   "outputs": [],
   "source": [
    "items_by_region = new_lst[:100]\n"
   ]
  },
  {
   "cell_type": "code",
   "execution_count": 48,
   "metadata": {},
   "outputs": [
    {
     "name": "stdout",
     "output_type": "stream",
     "text": [
      "==================\n",
      "Your score:  1.0\n",
      "==================\n"
     ]
    }
   ],
   "source": [
    "grader.score.pw__items_by_region(items_by_region)"
   ]
  },
  {
   "cell_type": "markdown",
   "metadata": {},
   "source": [
    "*Copyright &copy; 2020 The Data Incubator.  All rights reserved.*"
   ]
  }
 ],
 "metadata": {
  "kernelspec": {
   "display_name": "Python 3",
   "language": "python",
   "name": "python3"
  },
  "language_info": {
   "codemirror_mode": {
    "name": "ipython",
    "version": 3
   },
   "file_extension": ".py",
   "mimetype": "text/x-python",
   "name": "python",
   "nbconvert_exporter": "python",
   "pygments_lexer": "ipython3",
   "version": "3.7.3"
  },
  "nbclean": true
 },
 "nbformat": 4,
 "nbformat_minor": 1
}
